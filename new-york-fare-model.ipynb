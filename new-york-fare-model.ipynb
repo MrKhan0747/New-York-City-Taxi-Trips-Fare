{
 "cells": [
  {
   "cell_type": "markdown",
   "metadata": {},
   "source": [
    "<h1> New York Taxi Fare Price Prediction </h1>\n",
    "\n",
    "In this project using <b>New York</b> dataset we will predict the fare price of next trip.\n",
    "\n",
    "The dataset can be downloaded from https://www.kaggle.com/kentonnlp/2014-new-york-city-taxi-trips\n",
    "\n",
    "The dataset contains 8 features like pickup lat-lang and drop lat-lang"
   ]
  },
  {
   "cell_type": "code",
   "execution_count": 1,
   "metadata": {},
   "outputs": [],
   "source": [
    "import numpy as np\n",
    "import pandas as pd\n",
    "import seaborn as sns\n",
    "import matplotlib.pyplot as plt\n",
    "%matplotlib inline"
   ]
  },
  {
   "cell_type": "code",
   "execution_count": 4,
   "metadata": {},
   "outputs": [
    {
     "data": {
      "text/html": [
       "<div>\n",
       "<style scoped>\n",
       "    .dataframe tbody tr th:only-of-type {\n",
       "        vertical-align: middle;\n",
       "    }\n",
       "\n",
       "    .dataframe tbody tr th {\n",
       "        vertical-align: top;\n",
       "    }\n",
       "\n",
       "    .dataframe thead th {\n",
       "        text-align: right;\n",
       "    }\n",
       "</style>\n",
       "<table border=\"1\" class=\"dataframe\">\n",
       "  <thead>\n",
       "    <tr style=\"text-align: right;\">\n",
       "      <th></th>\n",
       "      <th>key</th>\n",
       "      <th>fare_amount</th>\n",
       "      <th>pickup_datetime</th>\n",
       "      <th>pickup_longitude</th>\n",
       "      <th>pickup_latitude</th>\n",
       "      <th>dropoff_longitude</th>\n",
       "      <th>dropoff_latitude</th>\n",
       "      <th>passenger_count</th>\n",
       "    </tr>\n",
       "  </thead>\n",
       "  <tbody>\n",
       "    <tr>\n",
       "      <th>0</th>\n",
       "      <td>2009-06-15 17:26:21.0000001</td>\n",
       "      <td>4.5</td>\n",
       "      <td>2009-06-15 17:26:21 UTC</td>\n",
       "      <td>-73.844311</td>\n",
       "      <td>40.721319</td>\n",
       "      <td>-73.841610</td>\n",
       "      <td>40.712278</td>\n",
       "      <td>1.0</td>\n",
       "    </tr>\n",
       "    <tr>\n",
       "      <th>1</th>\n",
       "      <td>2010-01-05 16:52:16.0000002</td>\n",
       "      <td>16.9</td>\n",
       "      <td>2010-01-05 16:52:16 UTC</td>\n",
       "      <td>-74.016048</td>\n",
       "      <td>40.711303</td>\n",
       "      <td>-73.979268</td>\n",
       "      <td>40.782004</td>\n",
       "      <td>1.0</td>\n",
       "    </tr>\n",
       "    <tr>\n",
       "      <th>2</th>\n",
       "      <td>2011-08-18 00:35:00.00000049</td>\n",
       "      <td>5.7</td>\n",
       "      <td>2011-08-18 00:35:00 UTC</td>\n",
       "      <td>-73.982738</td>\n",
       "      <td>40.761270</td>\n",
       "      <td>-73.991242</td>\n",
       "      <td>40.750562</td>\n",
       "      <td>2.0</td>\n",
       "    </tr>\n",
       "    <tr>\n",
       "      <th>3</th>\n",
       "      <td>2012-04-21 04:30:42.0000001</td>\n",
       "      <td>7.7</td>\n",
       "      <td>2012-04-21 04:30:42 UTC</td>\n",
       "      <td>-73.987130</td>\n",
       "      <td>40.733143</td>\n",
       "      <td>-73.991567</td>\n",
       "      <td>40.758092</td>\n",
       "      <td>1.0</td>\n",
       "    </tr>\n",
       "    <tr>\n",
       "      <th>4</th>\n",
       "      <td>2010-03-09 07:51:00.000000135</td>\n",
       "      <td>5.3</td>\n",
       "      <td>2010-03-09 07:51:00 UTC</td>\n",
       "      <td>-73.968095</td>\n",
       "      <td>40.768008</td>\n",
       "      <td>-73.956655</td>\n",
       "      <td>40.783762</td>\n",
       "      <td>1.0</td>\n",
       "    </tr>\n",
       "  </tbody>\n",
       "</table>\n",
       "</div>"
      ],
      "text/plain": [
       "                             key  fare_amount          pickup_datetime  \\\n",
       "0    2009-06-15 17:26:21.0000001          4.5  2009-06-15 17:26:21 UTC   \n",
       "1    2010-01-05 16:52:16.0000002         16.9  2010-01-05 16:52:16 UTC   \n",
       "2   2011-08-18 00:35:00.00000049          5.7  2011-08-18 00:35:00 UTC   \n",
       "3    2012-04-21 04:30:42.0000001          7.7  2012-04-21 04:30:42 UTC   \n",
       "4  2010-03-09 07:51:00.000000135          5.3  2010-03-09 07:51:00 UTC   \n",
       "\n",
       "   pickup_longitude  pickup_latitude  dropoff_longitude  dropoff_latitude  \\\n",
       "0        -73.844311        40.721319         -73.841610         40.712278   \n",
       "1        -74.016048        40.711303         -73.979268         40.782004   \n",
       "2        -73.982738        40.761270         -73.991242         40.750562   \n",
       "3        -73.987130        40.733143         -73.991567         40.758092   \n",
       "4        -73.968095        40.768008         -73.956655         40.783762   \n",
       "\n",
       "   passenger_count  \n",
       "0              1.0  \n",
       "1              1.0  \n",
       "2              2.0  \n",
       "3              1.0  \n",
       "4              1.0  "
      ]
     },
     "execution_count": 4,
     "metadata": {},
     "output_type": "execute_result"
    }
   ],
   "source": [
    "df=pd.read_csv('./Dataset/train.csv')\n",
    "df.head()"
   ]
  },
  {
   "cell_type": "code",
   "execution_count": 2,
   "metadata": {},
   "outputs": [
    {
     "data": {
      "text/html": [
       "<div>\n",
       "<style scoped>\n",
       "    .dataframe tbody tr th:only-of-type {\n",
       "        vertical-align: middle;\n",
       "    }\n",
       "\n",
       "    .dataframe tbody tr th {\n",
       "        vertical-align: top;\n",
       "    }\n",
       "\n",
       "    .dataframe thead th {\n",
       "        text-align: right;\n",
       "    }\n",
       "</style>\n",
       "<table border=\"1\" class=\"dataframe\">\n",
       "  <thead>\n",
       "    <tr style=\"text-align: right;\">\n",
       "      <th></th>\n",
       "      <th>key</th>\n",
       "      <th>pickup_datetime</th>\n",
       "      <th>pickup_longitude</th>\n",
       "      <th>pickup_latitude</th>\n",
       "      <th>dropoff_longitude</th>\n",
       "      <th>dropoff_latitude</th>\n",
       "      <th>passenger_count</th>\n",
       "    </tr>\n",
       "  </thead>\n",
       "  <tbody>\n",
       "    <tr>\n",
       "      <th>0</th>\n",
       "      <td>2015-01-27 13:08:24.0000002</td>\n",
       "      <td>2015-01-27 13:08:24 UTC</td>\n",
       "      <td>-73.973320</td>\n",
       "      <td>40.763805</td>\n",
       "      <td>-73.981430</td>\n",
       "      <td>40.743835</td>\n",
       "      <td>1</td>\n",
       "    </tr>\n",
       "    <tr>\n",
       "      <th>1</th>\n",
       "      <td>2015-01-27 13:08:24.0000003</td>\n",
       "      <td>2015-01-27 13:08:24 UTC</td>\n",
       "      <td>-73.986862</td>\n",
       "      <td>40.719383</td>\n",
       "      <td>-73.998886</td>\n",
       "      <td>40.739201</td>\n",
       "      <td>1</td>\n",
       "    </tr>\n",
       "    <tr>\n",
       "      <th>2</th>\n",
       "      <td>2011-10-08 11:53:44.0000002</td>\n",
       "      <td>2011-10-08 11:53:44 UTC</td>\n",
       "      <td>-73.982524</td>\n",
       "      <td>40.751260</td>\n",
       "      <td>-73.979654</td>\n",
       "      <td>40.746139</td>\n",
       "      <td>1</td>\n",
       "    </tr>\n",
       "    <tr>\n",
       "      <th>3</th>\n",
       "      <td>2012-12-01 21:12:12.0000002</td>\n",
       "      <td>2012-12-01 21:12:12 UTC</td>\n",
       "      <td>-73.981160</td>\n",
       "      <td>40.767807</td>\n",
       "      <td>-73.990448</td>\n",
       "      <td>40.751635</td>\n",
       "      <td>1</td>\n",
       "    </tr>\n",
       "    <tr>\n",
       "      <th>4</th>\n",
       "      <td>2012-12-01 21:12:12.0000003</td>\n",
       "      <td>2012-12-01 21:12:12 UTC</td>\n",
       "      <td>-73.966046</td>\n",
       "      <td>40.789775</td>\n",
       "      <td>-73.988565</td>\n",
       "      <td>40.744427</td>\n",
       "      <td>1</td>\n",
       "    </tr>\n",
       "  </tbody>\n",
       "</table>\n",
       "</div>"
      ],
      "text/plain": [
       "                           key          pickup_datetime  pickup_longitude  \\\n",
       "0  2015-01-27 13:08:24.0000002  2015-01-27 13:08:24 UTC        -73.973320   \n",
       "1  2015-01-27 13:08:24.0000003  2015-01-27 13:08:24 UTC        -73.986862   \n",
       "2  2011-10-08 11:53:44.0000002  2011-10-08 11:53:44 UTC        -73.982524   \n",
       "3  2012-12-01 21:12:12.0000002  2012-12-01 21:12:12 UTC        -73.981160   \n",
       "4  2012-12-01 21:12:12.0000003  2012-12-01 21:12:12 UTC        -73.966046   \n",
       "\n",
       "   pickup_latitude  dropoff_longitude  dropoff_latitude  passenger_count  \n",
       "0        40.763805         -73.981430         40.743835                1  \n",
       "1        40.719383         -73.998886         40.739201                1  \n",
       "2        40.751260         -73.979654         40.746139                1  \n",
       "3        40.767807         -73.990448         40.751635                1  \n",
       "4        40.789775         -73.988565         40.744427                1  "
      ]
     },
     "execution_count": 2,
     "metadata": {},
     "output_type": "execute_result"
    }
   ],
   "source": [
    "df_test=pd.read_csv('./Dataset/test.csv')\n",
    "df_test.head()"
   ]
  },
  {
   "cell_type": "code",
   "execution_count": 5,
   "metadata": {},
   "outputs": [
    {
     "data": {
      "text/html": [
       "<div>\n",
       "<style scoped>\n",
       "    .dataframe tbody tr th:only-of-type {\n",
       "        vertical-align: middle;\n",
       "    }\n",
       "\n",
       "    .dataframe tbody tr th {\n",
       "        vertical-align: top;\n",
       "    }\n",
       "\n",
       "    .dataframe thead th {\n",
       "        text-align: right;\n",
       "    }\n",
       "</style>\n",
       "<table border=\"1\" class=\"dataframe\">\n",
       "  <thead>\n",
       "    <tr style=\"text-align: right;\">\n",
       "      <th></th>\n",
       "      <th>fare_amount</th>\n",
       "      <th>pickup_longitude</th>\n",
       "      <th>pickup_latitude</th>\n",
       "      <th>dropoff_longitude</th>\n",
       "      <th>dropoff_latitude</th>\n",
       "      <th>passenger_count</th>\n",
       "    </tr>\n",
       "  </thead>\n",
       "  <tbody>\n",
       "    <tr>\n",
       "      <th>count</th>\n",
       "      <td>2.089104e+07</td>\n",
       "      <td>2.089104e+07</td>\n",
       "      <td>2.089104e+07</td>\n",
       "      <td>2.089090e+07</td>\n",
       "      <td>2.089090e+07</td>\n",
       "      <td>2.089104e+07</td>\n",
       "    </tr>\n",
       "    <tr>\n",
       "      <th>mean</th>\n",
       "      <td>1.134294e+01</td>\n",
       "      <td>-7.251111e+01</td>\n",
       "      <td>3.992057e+01</td>\n",
       "      <td>-7.251025e+01</td>\n",
       "      <td>3.991853e+01</td>\n",
       "      <td>1.685295e+00</td>\n",
       "    </tr>\n",
       "    <tr>\n",
       "      <th>std</th>\n",
       "      <td>1.665903e+01</td>\n",
       "      <td>1.304707e+01</td>\n",
       "      <td>9.525859e+00</td>\n",
       "      <td>1.292337e+01</td>\n",
       "      <td>9.660777e+00</td>\n",
       "      <td>1.322193e+00</td>\n",
       "    </tr>\n",
       "    <tr>\n",
       "      <th>min</th>\n",
       "      <td>-1.077500e+02</td>\n",
       "      <td>-3.439245e+03</td>\n",
       "      <td>-3.492264e+03</td>\n",
       "      <td>-3.442025e+03</td>\n",
       "      <td>-3.547887e+03</td>\n",
       "      <td>0.000000e+00</td>\n",
       "    </tr>\n",
       "    <tr>\n",
       "      <th>25%</th>\n",
       "      <td>6.000000e+00</td>\n",
       "      <td>-7.399207e+01</td>\n",
       "      <td>4.073491e+01</td>\n",
       "      <td>-7.399140e+01</td>\n",
       "      <td>4.073403e+01</td>\n",
       "      <td>1.000000e+00</td>\n",
       "    </tr>\n",
       "    <tr>\n",
       "      <th>50%</th>\n",
       "      <td>8.500000e+00</td>\n",
       "      <td>-7.398181e+01</td>\n",
       "      <td>4.075263e+01</td>\n",
       "      <td>-7.398016e+01</td>\n",
       "      <td>4.075315e+01</td>\n",
       "      <td>1.000000e+00</td>\n",
       "    </tr>\n",
       "    <tr>\n",
       "      <th>75%</th>\n",
       "      <td>1.250000e+01</td>\n",
       "      <td>-7.396709e+01</td>\n",
       "      <td>4.076712e+01</td>\n",
       "      <td>-7.396368e+01</td>\n",
       "      <td>4.076809e+01</td>\n",
       "      <td>2.000000e+00</td>\n",
       "    </tr>\n",
       "    <tr>\n",
       "      <th>max</th>\n",
       "      <td>6.155086e+04</td>\n",
       "      <td>3.457626e+03</td>\n",
       "      <td>3.406008e+03</td>\n",
       "      <td>3.457622e+03</td>\n",
       "      <td>3.400392e+03</td>\n",
       "      <td>2.080000e+02</td>\n",
       "    </tr>\n",
       "  </tbody>\n",
       "</table>\n",
       "</div>"
      ],
      "text/plain": [
       "        fare_amount  pickup_longitude  pickup_latitude  dropoff_longitude  \\\n",
       "count  2.089104e+07      2.089104e+07     2.089104e+07       2.089090e+07   \n",
       "mean   1.134294e+01     -7.251111e+01     3.992057e+01      -7.251025e+01   \n",
       "std    1.665903e+01      1.304707e+01     9.525859e+00       1.292337e+01   \n",
       "min   -1.077500e+02     -3.439245e+03    -3.492264e+03      -3.442025e+03   \n",
       "25%    6.000000e+00     -7.399207e+01     4.073491e+01      -7.399140e+01   \n",
       "50%    8.500000e+00     -7.398181e+01     4.075263e+01      -7.398016e+01   \n",
       "75%    1.250000e+01     -7.396709e+01     4.076712e+01      -7.396368e+01   \n",
       "max    6.155086e+04      3.457626e+03     3.406008e+03       3.457622e+03   \n",
       "\n",
       "       dropoff_latitude  passenger_count  \n",
       "count      2.089090e+07     2.089104e+07  \n",
       "mean       3.991853e+01     1.685295e+00  \n",
       "std        9.660777e+00     1.322193e+00  \n",
       "min       -3.547887e+03     0.000000e+00  \n",
       "25%        4.073403e+01     1.000000e+00  \n",
       "50%        4.075315e+01     1.000000e+00  \n",
       "75%        4.076809e+01     2.000000e+00  \n",
       "max        3.400392e+03     2.080000e+02  "
      ]
     },
     "execution_count": 5,
     "metadata": {},
     "output_type": "execute_result"
    }
   ],
   "source": [
    "df.describe()"
   ]
  },
  {
   "cell_type": "code",
   "execution_count": 6,
   "metadata": {},
   "outputs": [
    {
     "data": {
      "text/plain": [
       "(20891046, 8)"
      ]
     },
     "execution_count": 6,
     "metadata": {},
     "output_type": "execute_result"
    }
   ],
   "source": [
    "df.shape"
   ]
  },
  {
   "cell_type": "code",
   "execution_count": 7,
   "metadata": {},
   "outputs": [
    {
     "name": "stdout",
     "output_type": "stream",
     "text": [
      "<class 'pandas.core.frame.DataFrame'>\n",
      "RangeIndex: 20891046 entries, 0 to 20891045\n",
      "Data columns (total 8 columns):\n",
      "key                  object\n",
      "fare_amount          float64\n",
      "pickup_datetime      object\n",
      "pickup_longitude     float64\n",
      "pickup_latitude      float64\n",
      "dropoff_longitude    float64\n",
      "dropoff_latitude     float64\n",
      "passenger_count      float64\n",
      "dtypes: float64(6), object(2)\n",
      "memory usage: 1.2+ GB\n"
     ]
    }
   ],
   "source": [
    "df.info()"
   ]
  },
  {
   "cell_type": "code",
   "execution_count": 8,
   "metadata": {},
   "outputs": [
    {
     "data": {
      "text/plain": [
       "key                    0\n",
       "fare_amount            1\n",
       "pickup_datetime        1\n",
       "pickup_longitude       1\n",
       "pickup_latitude        1\n",
       "dropoff_longitude    147\n",
       "dropoff_latitude     147\n",
       "passenger_count        1\n",
       "dtype: int64"
      ]
     },
     "execution_count": 8,
     "metadata": {},
     "output_type": "execute_result"
    }
   ],
   "source": [
    "df.isnull().sum()"
   ]
  },
  {
   "cell_type": "markdown",
   "metadata": {},
   "source": [
    "<h1> Data Preprocessing </h1>"
   ]
  },
  {
   "cell_type": "markdown",
   "metadata": {},
   "source": [
    "<h3> Missing Values </h3>\n",
    "\n",
    "Above we can see our dataset have minor missing values 147 records maximum.<br>So we can easily drop that data because our dataset is much  larger\n",
    "\n",
    "Drop column <b> Key </b>also"
   ]
  },
  {
   "cell_type": "code",
   "execution_count": 9,
   "metadata": {},
   "outputs": [
    {
     "data": {
      "text/plain": [
       "(20890899, 7)"
      ]
     },
     "execution_count": 9,
     "metadata": {},
     "output_type": "execute_result"
    }
   ],
   "source": [
    "df=df.dropna()\n",
    "df=df.drop('key',axis=1)\n",
    "df.shape"
   ]
  },
  {
   "cell_type": "markdown",
   "metadata": {},
   "source": [
    "<h3> Let's Check the coordinates data </h3>\n",
    "\n",
    "First find pickup lat lang min max coordinates"
   ]
  },
  {
   "cell_type": "code",
   "execution_count": 10,
   "metadata": {},
   "outputs": [
    {
     "name": "stdout",
     "output_type": "stream",
     "text": [
      "3457.6256829999998 -3439.2450619999995\n",
      "3406.0083950000003 -3492.263768\n",
      "3457.62235 -3442.0245649999997\n",
      "3400.391603 -3547.886698\n"
     ]
    }
   ],
   "source": [
    "def min_max():\n",
    "    print(df['pickup_longitude'].max(),df['pickup_longitude'].min())\n",
    "    print(df['pickup_latitude'].max(),df['pickup_latitude'].min())\n",
    "\n",
    "    print(df['dropoff_longitude'].max(),df['dropoff_longitude'].min())\n",
    "    print(df['dropoff_latitude'].max(),df['dropoff_latitude'].min())\n",
    "\n",
    "min_max()"
   ]
  },
  {
   "cell_type": "markdown",
   "metadata": {},
   "source": [
    "Latitude is always range between -90 to 90\n",
    "\n",
    "Longitude is always range between -180 to 180\n",
    "\n",
    "And whatever above this range is wrong data\n",
    "\n",
    "First check any data above this range"
   ]
  },
  {
   "cell_type": "code",
   "execution_count": 11,
   "metadata": {},
   "outputs": [
    {
     "name": "stdout",
     "output_type": "stream",
     "text": [
      "398452\n",
      "397054\n",
      "397509\n",
      "396286\n"
     ]
    }
   ],
   "source": [
    "def coordinate_data():\n",
    "    print(df[(df['pickup_longitude']>180) |(df['pickup_longitude']<-180) | (df['pickup_longitude']==0) ]['pickup_longitude'].count())\n",
    "    print(df[(df['pickup_latitude']>90) |(df['pickup_latitude']<-90) | (df['pickup_latitude']==0) ]['pickup_latitude'].count())\n",
    "    print(df[(df['dropoff_longitude']>180) |(df['dropoff_longitude']<-180) | (df['dropoff_longitude']==0)]['dropoff_longitude'].count())\n",
    "    print(df[(df['dropoff_latitude']>90) |(df['dropoff_latitude']<-90) | (df['dropoff_latitude']==0) ]['dropoff_latitude'].count())\n",
    "\n",
    "coordinate_data()"
   ]
  },
  {
   "cell_type": "markdown",
   "metadata": {},
   "source": [
    "We can see so many records are out of range so its not possible to have \n",
    "Let's remove it...\n",
    "\n",
    "We will use <b> ~ </b> sign to remove all data which match condition"
   ]
  },
  {
   "cell_type": "code",
   "execution_count": 12,
   "metadata": {},
   "outputs": [
    {
     "name": "stdout",
     "output_type": "stream",
     "text": [
      "0\n",
      "0\n",
      "0\n",
      "0\n",
      "154.10075600000002 -168.603534\n",
      "89.533332 -77.833874\n",
      "154.10075600000002 -173.95763\n",
      "88.75 -74.1932\n"
     ]
    }
   ],
   "source": [
    "df=df[~((df['pickup_longitude']>180) |(df['pickup_longitude']<-180) | (df['pickup_longitude']==0))]\n",
    "df=df[~((df['pickup_latitude']>90) |(df['pickup_latitude']<-90) | (df['pickup_latitude']==0))]\n",
    "df=df[~((df['dropoff_longitude']>180) |(df['dropoff_longitude']<-180) | (df['dropoff_longitude']==0))]\n",
    "df=df[~((df['dropoff_latitude']>90) |(df['dropoff_latitude']<-90) | (df['dropoff_latitude']==0))]\n",
    "\n",
    "# call function to check\n",
    "coordinate_data()\n",
    "min_max()"
   ]
  },
  {
   "cell_type": "code",
   "execution_count": 13,
   "metadata": {},
   "outputs": [
    {
     "name": "stdout",
     "output_type": "stream",
     "text": [
      "(217707, 7)\n"
     ]
    }
   ],
   "source": [
    "# remove where pickup and drop location are same\n",
    "print(df[(df['pickup_longitude']==df['dropoff_longitude']) & (df['pickup_latitude']==df['dropoff_latitude'])].shape)\n",
    "df=df[~((df['pickup_longitude']==df['dropoff_longitude']) & (df['pickup_latitude']==df['dropoff_latitude']))]"
   ]
  },
  {
   "cell_type": "code",
   "execution_count": 14,
   "metadata": {},
   "outputs": [
    {
     "name": "stdout",
     "output_type": "stream",
     "text": [
      "40.573143 41.709555\n",
      "-74.252193 -72.986532\n"
     ]
    }
   ],
   "source": [
    "print(df_test.pickup_latitude.min(), df_test.pickup_latitude.max())\n",
    "print(df_test.pickup_longitude.min(), df_test.pickup_longitude.max())"
   ]
  },
  {
   "cell_type": "code",
   "execution_count": 15,
   "metadata": {},
   "outputs": [],
   "source": [
    "#boundary for new york latitude longitude...\n",
    "\n",
    "boundary={\"min_lat\":40.573143,\n",
    "         \"min_lang\":-74.252193,\n",
    "         \"max_lat\":41.709555,\n",
    "         \"max_lang\":-72.986532}"
   ]
  },
  {
   "cell_type": "code",
   "execution_count": 16,
   "metadata": {},
   "outputs": [
    {
     "name": "stdout",
     "output_type": "stream",
     "text": [
      "18043\n",
      "17749\n",
      "19416\n",
      "17715\n"
     ]
    }
   ],
   "source": [
    "print(df[(df['pickup_latitude']<=boundary['min_lat']) | (df['pickup_latitude']>=boundary['max_lat'])].shape[0])\n",
    "print(df[(df['pickup_longitude']<=boundary['min_lang']) | (df['pickup_longitude']>=boundary['max_lang'])].shape[0])\n",
    "print(df[(df['dropoff_latitude']<=boundary['min_lat']) | (df['dropoff_latitude']>=boundary['max_lat'])].shape[0])\n",
    "print(df[(df['dropoff_longitude']<=boundary['min_lang']) | (df['dropoff_longitude']>=boundary['max_lang'])].shape[0])"
   ]
  },
  {
   "cell_type": "code",
   "execution_count": 17,
   "metadata": {},
   "outputs": [
    {
     "data": {
      "text/plain": [
       "(20226838, 7)"
      ]
     },
     "execution_count": 17,
     "metadata": {},
     "output_type": "execute_result"
    }
   ],
   "source": [
    "df=df[~((df['pickup_latitude']<=boundary['min_lat']) | (df['pickup_latitude']>=boundary['max_lat']))]\n",
    "df=df[~((df['pickup_longitude']<=boundary['min_lang']) | (df['pickup_longitude']>=boundary['max_lang']))]\n",
    "\n",
    "df=df[~((df['dropoff_latitude']<=boundary['min_lat']) | (df['dropoff_latitude']>=boundary['max_lat']))]\n",
    "df=df[~((df['dropoff_longitude']<=boundary['min_lang']) | (df['dropoff_longitude']>=boundary['max_lang']))]\n",
    "\n",
    "df.shape"
   ]
  },
  {
   "cell_type": "markdown",
   "metadata": {},
   "source": [
    "Our system is not capable of proessing <b>20 Millions</b> records.\n",
    "\n",
    "Processing <b>20 Millions</b> will take lot's of time\n",
    "\n",
    "I'll select randomly <b>10% </b>dataset and make model"
   ]
  },
  {
   "cell_type": "code",
   "execution_count": 19,
   "metadata": {},
   "outputs": [
    {
     "data": {
      "text/plain": [
       "(2022684, 7)"
      ]
     },
     "execution_count": 19,
     "metadata": {},
     "output_type": "execute_result"
    }
   ],
   "source": [
    "#Randomly select 10% data \n",
    "\n",
    "df = df.sample(frac=0.1)\n",
    "df.shape"
   ]
  },
  {
   "cell_type": "code",
   "execution_count": 20,
   "metadata": {},
   "outputs": [
    {
     "data": {
      "image/png": "[encoded data removed]",
      "text/plain": [
       "<Figure size 432x288 with 1 Axes>"
      ]
     },
     "metadata": {
      "needs_background": "light"
     },
     "output_type": "display_data"
    }
   ],
   "source": [
    "df.plot(y='pickup_latitude',x='pickup_longitude',kind=\"scatter\",alpha=0.7,s=0.02)\n",
    "city_long_border = (-74.03, -73.75)\n",
    "city_lat_border = (40.63, 40.85)\n",
    "plt.title(\"Pickups\")\n",
    "\n",
    "plt.ylim(city_lat_border)\n",
    "plt.xlim(city_long_border)\n",
    "plt.show()"
   ]
  },
  {
   "cell_type": "code",
   "execution_count": 21,
   "metadata": {},
   "outputs": [
    {
     "data": {
      "image/png": "[encoded data removed]",
      "text/plain": [
       "<Figure size 432x288 with 1 Axes>"
      ]
     },
     "metadata": {
      "needs_background": "light"
     },
     "output_type": "display_data"
    }
   ],
   "source": [
    "df.plot(y='dropoff_latitude',x='dropoff_longitude',kind=\"scatter\",alpha=0.5,s=0.02)\n",
    "city_long_border = (-74.03, -73.75)\n",
    "city_lat_border = (40.63, 40.85)\n",
    "plt.title(\"Dropoff\")\n",
    "\n",
    "plt.ylim(city_lat_border)\n",
    "plt.xlim(city_long_border)\n",
    "plt.show()"
   ]
  },
  {
   "cell_type": "code",
   "execution_count": 112,
   "metadata": {},
   "outputs": [],
   "source": [
    "#JFK Airport Boundary\n",
    "#-73.85542,40.67530,-73.68513,40.61017\n",
    "\n",
    "JFK={\"min_long\":-73.81,\n",
    "    \"min_lat\":40.63,\n",
    "    \"max_long\":-73.77,\n",
    "    \"max_lat\":40.67}\n",
    "\n",
    "#Manhattan \n",
    "#-74.21059,40.93686,-73.52943,40.67699\n",
    "\n",
    "#40.89, -73.92 40.77, -73.94\n",
    "Manhattan={\n",
    "    \"min_long\":-74.02,\n",
    "    \"min_lat\":40.70,\n",
    "    \"max_long\":-73.93,\n",
    "    \"max_lat\":40.85}\n",
    "\n",
    "#Staten Island\n",
    "#-74.35581,40.65356,-73.96992,40.52319\n",
    "\n",
    "Island={\n",
    "    \"min_long\":-74.35,\n",
    "    \"min_lat\":40.52,\n",
    "    \"max_long\":-73.97,\n",
    "    \"max_lat\":40.65 }\n",
    "\n",
    "#Brooklyn\n",
    "#-74.04493,40.68272,-73.85439,40.61760\n",
    "\n",
    "Brooklyn={\n",
    "    \"min_long\":-74.04,\n",
    "    \"min_lat\":40.59,\n",
    "    \"max_long\":-73.94,\n",
    "    \"max_lat\":40.73 }\n",
    "\n",
    "#LibertyAirport\n",
    "\n",
    "LibertyAirport={\n",
    "    \"min_long\":-74.1,\n",
    "    \"min_lat\":40.67,\n",
    "    \"max_long\":-73.85,\n",
    "    \"max_lat\":40.73}\n",
    "\n",
    "#LaGuardia\n",
    "# -73.91790,40.79198,-73.82263,40.75948\n",
    "\n",
    "LaGuardia={\n",
    "    \"min_long\":-73.88,\n",
    "    \"min_lat\":40.76,\n",
    "    \"max_long\":-73.85,\n",
    "    \"max_lat\":40.79}\n",
    "\n",
    "#Bronx\n",
    "#-74.18175,40.98042,-73.50060,40.72072\n",
    "\n",
    "Bronx={\n",
    "    \"min_long\":-74.0,\n",
    "    \"min_lat\":40.80,\n",
    "    \"max_long\":-73.78,\n",
    "    \"max_lat\":40.91}\n"
   ]
  },
  {
   "cell_type": "code",
   "execution_count": 115,
   "metadata": {},
   "outputs": [
    {
     "name": "stdout",
     "output_type": "stream",
     "text": [
      "JFK Pickup Total  (30779, 7)\n",
      "Manhattan Pickup Total  (1900754, 7)\n"
     ]
    }
   ],
   "source": [
    "\n",
    "def pickup(place,train):\n",
    "    data=train[((train['pickup_latitude']>= place['min_lat']) & (train['pickup_latitude']<= place['max_lat']) & (train['pickup_longitude']>= place['min_long']) & (train['pickup_longitude']<= place['max_long']))]\n",
    "    \n",
    "    return data\n",
    "\n",
    "print(\"JFK Pickup Total \" , pickup(JFK,df).shape)\n",
    "print(\"Manhattan Pickup Total \" , pickup(Manhattan,df).shape)"
   ]
  },
  {
   "cell_type": "code",
   "execution_count": 116,
   "metadata": {},
   "outputs": [
    {
     "data": {
      "image/png": "[encoded data removed]",
      "text/plain": [
       "<Figure size 432x288 with 1 Axes>"
      ]
     },
     "metadata": {
      "needs_background": "light"
     },
     "output_type": "display_data"
    }
   ],
   "source": [
    "d=pickup(JFK,df)\n",
    "d.plot(y='pickup_latitude',x='pickup_longitude',kind=\"scatter\",alpha=0.7,s=0.02)\n",
    "city_long_border = (-74.03, -73.75)\n",
    "city_lat_border = (40.63, 40.85)\n",
    "plt.title(\"Pickups\")\n",
    "\n",
    "plt.ylim(city_lat_border)\n",
    "plt.xlim(city_long_border)\n",
    "plt.show()"
   ]
  },
  {
   "cell_type": "code",
   "execution_count": 117,
   "metadata": {},
   "outputs": [
    {
     "data": {
      "image/png": "[encoded data removed]",
      "text/plain": [
       "<Figure size 432x288 with 1 Axes>"
      ]
     },
     "metadata": {
      "needs_background": "light"
     },
     "output_type": "display_data"
    }
   ],
   "source": [
    "d=pickup(Manhattan,df)\n",
    "d.plot(y='pickup_latitude',x='pickup_longitude',kind=\"scatter\",alpha=0.7,s=0.02)\n",
    "city_long_border = (-74.03, -73.75)\n",
    "city_lat_border = (40.63, 40.85)\n",
    "plt.title(\"Pickups\")\n",
    "\n",
    "plt.ylim(city_lat_border)\n",
    "plt.xlim(city_long_border)\n",
    "plt.show()"
   ]
  },
  {
   "cell_type": "code",
   "execution_count": 118,
   "metadata": {},
   "outputs": [
    {
     "name": "stdout",
     "output_type": "stream",
     "text": [
      "JFK Drop Total  (15679, 7)\n",
      "Manhattan Drop Total  (1841853, 7)\n"
     ]
    }
   ],
   "source": [
    "\n",
    "def drop_place(place,train):\n",
    "    data=train[((train['dropoff_latitude']>= place['min_lat']) & (train['dropoff_latitude']<= place['max_lat']) & (train['dropoff_longitude']>= place['min_long']) & (train['dropoff_longitude']<= place['max_long']))]    \n",
    "    return data\n",
    "\n",
    "print(\"JFK Drop Total \" ,drop_place(JFK,df).shape)\n",
    "print(\"Manhattan Drop Total \" , drop_place(Manhattan,df).shape)"
   ]
  },
  {
   "cell_type": "markdown",
   "metadata": {},
   "source": [
    "Passenger Count Data"
   ]
  },
  {
   "cell_type": "code",
   "execution_count": 151,
   "metadata": {},
   "outputs": [
    {
     "name": "stdout",
     "output_type": "stream",
     "text": [
      "8\n",
      "0\n"
     ]
    }
   ],
   "source": [
    "df['passenger_count']=df['passenger_count'].astype(int)\n",
    "print(df['passenger_count'].max())\n",
    "print(df['passenger_count'].min())"
   ]
  },
  {
   "cell_type": "code",
   "execution_count": 128,
   "metadata": {},
   "outputs": [
    {
     "data": {
      "text/plain": [
       "<matplotlib.axes._subplots.AxesSubplot at 0x1720845f3c8>"
      ]
     },
     "execution_count": 128,
     "metadata": {},
     "output_type": "execute_result"
    },
    {
     "data": {
      "image/png": "[encoded data removed]",
      "text/plain": [
       "<Figure size 432x288 with 1 Axes>"
      ]
     },
     "metadata": {
      "needs_background": "light"
     },
     "output_type": "display_data"
    }
   ],
   "source": [
    "sns.countplot(x='passenger_count',data=df)"
   ]
  },
  {
   "cell_type": "code",
   "execution_count": 129,
   "metadata": {},
   "outputs": [
    {
     "data": {
      "text/plain": [
       "(2015606, 9)"
      ]
     },
     "execution_count": 129,
     "metadata": {},
     "output_type": "execute_result"
    }
   ],
   "source": [
    "df=df[~((df['passenger_count']==0) | (df['passenger_count']>6))]\n",
    "df.shape"
   ]
  },
  {
   "cell_type": "code",
   "execution_count": 137,
   "metadata": {},
   "outputs": [
    {
     "data": {
      "text/plain": [
       "96"
      ]
     },
     "execution_count": 137,
     "metadata": {},
     "output_type": "execute_result"
    }
   ],
   "source": [
    "df[df['fare_amount']<=0]['fare_amount'].count()"
   ]
  },
  {
   "cell_type": "code",
   "execution_count": 138,
   "metadata": {},
   "outputs": [],
   "source": [
    "df=df[~(df['fare_amount']<=0)]"
   ]
  },
  {
   "cell_type": "markdown",
   "metadata": {},
   "source": [
    "<h1>Feature Engineering </h1>"
   ]
  },
  {
   "cell_type": "code",
   "execution_count": 139,
   "metadata": {},
   "outputs": [
    {
     "data": {
      "text/html": [
       "<div>\n",
       "<style scoped>\n",
       "    .dataframe tbody tr th:only-of-type {\n",
       "        vertical-align: middle;\n",
       "    }\n",
       "\n",
       "    .dataframe tbody tr th {\n",
       "        vertical-align: top;\n",
       "    }\n",
       "\n",
       "    .dataframe thead th {\n",
       "        text-align: right;\n",
       "    }\n",
       "</style>\n",
       "<table border=\"1\" class=\"dataframe\">\n",
       "  <thead>\n",
       "    <tr style=\"text-align: right;\">\n",
       "      <th></th>\n",
       "      <th>fare_amount</th>\n",
       "      <th>pickup_datetime</th>\n",
       "      <th>pickup_longitude</th>\n",
       "      <th>pickup_latitude</th>\n",
       "      <th>dropoff_longitude</th>\n",
       "      <th>dropoff_latitude</th>\n",
       "      <th>passenger_count</th>\n",
       "      <th>pickup_area</th>\n",
       "      <th>drop_area</th>\n",
       "      <th>pickup_day</th>\n",
       "      <th>pickup_month</th>\n",
       "      <th>pickup_year</th>\n",
       "    </tr>\n",
       "  </thead>\n",
       "  <tbody>\n",
       "    <tr>\n",
       "      <th>6218096</th>\n",
       "      <td>12.9</td>\n",
       "      <td>2009-10-03 17:37:00 UTC</td>\n",
       "      <td>-73.999725</td>\n",
       "      <td>40.723740</td>\n",
       "      <td>-73.961787</td>\n",
       "      <td>40.768573</td>\n",
       "      <td>2.0</td>\n",
       "      <td>Other</td>\n",
       "      <td>Other</td>\n",
       "      <td>3</td>\n",
       "      <td>10</td>\n",
       "      <td>2009</td>\n",
       "    </tr>\n",
       "    <tr>\n",
       "      <th>6675862</th>\n",
       "      <td>11.5</td>\n",
       "      <td>2014-08-28 07:41:53 UTC</td>\n",
       "      <td>-73.983010</td>\n",
       "      <td>40.723503</td>\n",
       "      <td>-74.011971</td>\n",
       "      <td>40.701478</td>\n",
       "      <td>1.0</td>\n",
       "      <td>Other</td>\n",
       "      <td>Other</td>\n",
       "      <td>28</td>\n",
       "      <td>8</td>\n",
       "      <td>2014</td>\n",
       "    </tr>\n",
       "    <tr>\n",
       "      <th>15366980</th>\n",
       "      <td>9.7</td>\n",
       "      <td>2010-05-22 14:47:00 UTC</td>\n",
       "      <td>-74.005312</td>\n",
       "      <td>40.740653</td>\n",
       "      <td>-73.998070</td>\n",
       "      <td>40.724963</td>\n",
       "      <td>5.0</td>\n",
       "      <td>Other</td>\n",
       "      <td>Other</td>\n",
       "      <td>22</td>\n",
       "      <td>5</td>\n",
       "      <td>2010</td>\n",
       "    </tr>\n",
       "    <tr>\n",
       "      <th>6227339</th>\n",
       "      <td>11.5</td>\n",
       "      <td>2015-03-09 11:25:47 UTC</td>\n",
       "      <td>-73.988739</td>\n",
       "      <td>40.727539</td>\n",
       "      <td>-74.007751</td>\n",
       "      <td>40.715561</td>\n",
       "      <td>1.0</td>\n",
       "      <td>Other</td>\n",
       "      <td>Other</td>\n",
       "      <td>9</td>\n",
       "      <td>3</td>\n",
       "      <td>2015</td>\n",
       "    </tr>\n",
       "    <tr>\n",
       "      <th>20752327</th>\n",
       "      <td>7.5</td>\n",
       "      <td>2013-06-17 16:19:00 UTC</td>\n",
       "      <td>-73.977525</td>\n",
       "      <td>40.773902</td>\n",
       "      <td>-73.955337</td>\n",
       "      <td>40.782412</td>\n",
       "      <td>6.0</td>\n",
       "      <td>Other</td>\n",
       "      <td>Other</td>\n",
       "      <td>17</td>\n",
       "      <td>6</td>\n",
       "      <td>2013</td>\n",
       "    </tr>\n",
       "  </tbody>\n",
       "</table>\n",
       "</div>"
      ],
      "text/plain": [
       "          fare_amount          pickup_datetime  pickup_longitude  \\\n",
       "6218096          12.9  2009-10-03 17:37:00 UTC        -73.999725   \n",
       "6675862          11.5  2014-08-28 07:41:53 UTC        -73.983010   \n",
       "15366980          9.7  2010-05-22 14:47:00 UTC        -74.005312   \n",
       "6227339          11.5  2015-03-09 11:25:47 UTC        -73.988739   \n",
       "20752327          7.5  2013-06-17 16:19:00 UTC        -73.977525   \n",
       "\n",
       "          pickup_latitude  dropoff_longitude  dropoff_latitude  \\\n",
       "6218096         40.723740         -73.961787         40.768573   \n",
       "6675862         40.723503         -74.011971         40.701478   \n",
       "15366980        40.740653         -73.998070         40.724963   \n",
       "6227339         40.727539         -74.007751         40.715561   \n",
       "20752327        40.773902         -73.955337         40.782412   \n",
       "\n",
       "          passenger_count pickup_area drop_area  pickup_day  pickup_month  \\\n",
       "6218096               2.0       Other     Other           3            10   \n",
       "6675862               1.0       Other     Other          28             8   \n",
       "15366980              5.0       Other     Other          22             5   \n",
       "6227339               1.0       Other     Other           9             3   \n",
       "20752327              6.0       Other     Other          17             6   \n",
       "\n",
       "          pickup_year  \n",
       "6218096          2009  \n",
       "6675862          2014  \n",
       "15366980         2010  \n",
       "6227339          2015  \n",
       "20752327         2013  "
      ]
     },
     "execution_count": 139,
     "metadata": {},
     "output_type": "execute_result"
    }
   ],
   "source": [
    "df['pickup_day']=pd.to_datetime(df.pickup_datetime,format='%Y-%m-%d %H:%M:%S UTC').dt.day\n",
    "df['pickup_month']=pd.to_datetime(df.pickup_datetime,format='%Y-%m-%d %H:%M:%S UTC').dt.month\n",
    "df['pickup_year']=pd.to_datetime(df.pickup_datetime,format='%Y-%m-%d %H:%M:%S UTC').dt.year\n",
    "df.head()"
   ]
  },
  {
   "cell_type": "code",
   "execution_count": 140,
   "metadata": {},
   "outputs": [
    {
     "data": {
      "text/html": [
       "<div>\n",
       "<style scoped>\n",
       "    .dataframe tbody tr th:only-of-type {\n",
       "        vertical-align: middle;\n",
       "    }\n",
       "\n",
       "    .dataframe tbody tr th {\n",
       "        vertical-align: top;\n",
       "    }\n",
       "\n",
       "    .dataframe thead th {\n",
       "        text-align: right;\n",
       "    }\n",
       "</style>\n",
       "<table border=\"1\" class=\"dataframe\">\n",
       "  <thead>\n",
       "    <tr style=\"text-align: right;\">\n",
       "      <th></th>\n",
       "      <th>fare_amount</th>\n",
       "      <th>pickup_datetime</th>\n",
       "      <th>pickup_longitude</th>\n",
       "      <th>pickup_latitude</th>\n",
       "      <th>dropoff_longitude</th>\n",
       "      <th>dropoff_latitude</th>\n",
       "      <th>passenger_count</th>\n",
       "      <th>pickup_area</th>\n",
       "      <th>drop_area</th>\n",
       "      <th>pickup_day</th>\n",
       "      <th>pickup_month</th>\n",
       "      <th>pickup_year</th>\n",
       "      <th>pickup_weekday</th>\n",
       "    </tr>\n",
       "  </thead>\n",
       "  <tbody>\n",
       "    <tr>\n",
       "      <th>6218096</th>\n",
       "      <td>12.9</td>\n",
       "      <td>2009-10-03 17:37:00 UTC</td>\n",
       "      <td>-73.999725</td>\n",
       "      <td>40.723740</td>\n",
       "      <td>-73.961787</td>\n",
       "      <td>40.768573</td>\n",
       "      <td>2.0</td>\n",
       "      <td>Other</td>\n",
       "      <td>Other</td>\n",
       "      <td>3</td>\n",
       "      <td>10</td>\n",
       "      <td>2009</td>\n",
       "      <td>5</td>\n",
       "    </tr>\n",
       "    <tr>\n",
       "      <th>6675862</th>\n",
       "      <td>11.5</td>\n",
       "      <td>2014-08-28 07:41:53 UTC</td>\n",
       "      <td>-73.983010</td>\n",
       "      <td>40.723503</td>\n",
       "      <td>-74.011971</td>\n",
       "      <td>40.701478</td>\n",
       "      <td>1.0</td>\n",
       "      <td>Other</td>\n",
       "      <td>Other</td>\n",
       "      <td>28</td>\n",
       "      <td>8</td>\n",
       "      <td>2014</td>\n",
       "      <td>3</td>\n",
       "    </tr>\n",
       "    <tr>\n",
       "      <th>15366980</th>\n",
       "      <td>9.7</td>\n",
       "      <td>2010-05-22 14:47:00 UTC</td>\n",
       "      <td>-74.005312</td>\n",
       "      <td>40.740653</td>\n",
       "      <td>-73.998070</td>\n",
       "      <td>40.724963</td>\n",
       "      <td>5.0</td>\n",
       "      <td>Other</td>\n",
       "      <td>Other</td>\n",
       "      <td>22</td>\n",
       "      <td>5</td>\n",
       "      <td>2010</td>\n",
       "      <td>5</td>\n",
       "    </tr>\n",
       "    <tr>\n",
       "      <th>6227339</th>\n",
       "      <td>11.5</td>\n",
       "      <td>2015-03-09 11:25:47 UTC</td>\n",
       "      <td>-73.988739</td>\n",
       "      <td>40.727539</td>\n",
       "      <td>-74.007751</td>\n",
       "      <td>40.715561</td>\n",
       "      <td>1.0</td>\n",
       "      <td>Other</td>\n",
       "      <td>Other</td>\n",
       "      <td>9</td>\n",
       "      <td>3</td>\n",
       "      <td>2015</td>\n",
       "      <td>0</td>\n",
       "    </tr>\n",
       "    <tr>\n",
       "      <th>20752327</th>\n",
       "      <td>7.5</td>\n",
       "      <td>2013-06-17 16:19:00 UTC</td>\n",
       "      <td>-73.977525</td>\n",
       "      <td>40.773902</td>\n",
       "      <td>-73.955337</td>\n",
       "      <td>40.782412</td>\n",
       "      <td>6.0</td>\n",
       "      <td>Other</td>\n",
       "      <td>Other</td>\n",
       "      <td>17</td>\n",
       "      <td>6</td>\n",
       "      <td>2013</td>\n",
       "      <td>0</td>\n",
       "    </tr>\n",
       "  </tbody>\n",
       "</table>\n",
       "</div>"
      ],
      "text/plain": [
       "          fare_amount          pickup_datetime  pickup_longitude  \\\n",
       "6218096          12.9  2009-10-03 17:37:00 UTC        -73.999725   \n",
       "6675862          11.5  2014-08-28 07:41:53 UTC        -73.983010   \n",
       "15366980          9.7  2010-05-22 14:47:00 UTC        -74.005312   \n",
       "6227339          11.5  2015-03-09 11:25:47 UTC        -73.988739   \n",
       "20752327          7.5  2013-06-17 16:19:00 UTC        -73.977525   \n",
       "\n",
       "          pickup_latitude  dropoff_longitude  dropoff_latitude  \\\n",
       "6218096         40.723740         -73.961787         40.768573   \n",
       "6675862         40.723503         -74.011971         40.701478   \n",
       "15366980        40.740653         -73.998070         40.724963   \n",
       "6227339         40.727539         -74.007751         40.715561   \n",
       "20752327        40.773902         -73.955337         40.782412   \n",
       "\n",
       "          passenger_count pickup_area drop_area  pickup_day  pickup_month  \\\n",
       "6218096               2.0       Other     Other           3            10   \n",
       "6675862               1.0       Other     Other          28             8   \n",
       "15366980              5.0       Other     Other          22             5   \n",
       "6227339               1.0       Other     Other           9             3   \n",
       "20752327              6.0       Other     Other          17             6   \n",
       "\n",
       "          pickup_year  pickup_weekday  \n",
       "6218096          2009               5  \n",
       "6675862          2014               3  \n",
       "15366980         2010               5  \n",
       "6227339          2015               0  \n",
       "20752327         2013               0  "
      ]
     },
     "execution_count": 140,
     "metadata": {},
     "output_type": "execute_result"
    }
   ],
   "source": [
    "df['pickup_weekday'] = pd.DatetimeIndex(df.pickup_datetime).dayofweek\n",
    "df.head()"
   ]
  },
  {
   "cell_type": "code",
   "execution_count": 141,
   "metadata": {},
   "outputs": [
    {
     "data": {
      "text/html": [
       "<div>\n",
       "<style scoped>\n",
       "    .dataframe tbody tr th:only-of-type {\n",
       "        vertical-align: middle;\n",
       "    }\n",
       "\n",
       "    .dataframe tbody tr th {\n",
       "        vertical-align: top;\n",
       "    }\n",
       "\n",
       "    .dataframe thead th {\n",
       "        text-align: right;\n",
       "    }\n",
       "</style>\n",
       "<table border=\"1\" class=\"dataframe\">\n",
       "  <thead>\n",
       "    <tr style=\"text-align: right;\">\n",
       "      <th></th>\n",
       "      <th>fare_amount</th>\n",
       "      <th>pickup_datetime</th>\n",
       "      <th>pickup_longitude</th>\n",
       "      <th>pickup_latitude</th>\n",
       "      <th>dropoff_longitude</th>\n",
       "      <th>dropoff_latitude</th>\n",
       "      <th>passenger_count</th>\n",
       "      <th>pickup_area</th>\n",
       "      <th>drop_area</th>\n",
       "      <th>pickup_day</th>\n",
       "      <th>pickup_month</th>\n",
       "      <th>pickup_year</th>\n",
       "      <th>pickup_weekday</th>\n",
       "      <th>pickup_hour</th>\n",
       "    </tr>\n",
       "  </thead>\n",
       "  <tbody>\n",
       "    <tr>\n",
       "      <th>6218096</th>\n",
       "      <td>12.9</td>\n",
       "      <td>2009-10-03 17:37:00 UTC</td>\n",
       "      <td>-73.999725</td>\n",
       "      <td>40.723740</td>\n",
       "      <td>-73.961787</td>\n",
       "      <td>40.768573</td>\n",
       "      <td>2.0</td>\n",
       "      <td>Other</td>\n",
       "      <td>Other</td>\n",
       "      <td>3</td>\n",
       "      <td>10</td>\n",
       "      <td>2009</td>\n",
       "      <td>5</td>\n",
       "      <td>17</td>\n",
       "    </tr>\n",
       "    <tr>\n",
       "      <th>6675862</th>\n",
       "      <td>11.5</td>\n",
       "      <td>2014-08-28 07:41:53 UTC</td>\n",
       "      <td>-73.983010</td>\n",
       "      <td>40.723503</td>\n",
       "      <td>-74.011971</td>\n",
       "      <td>40.701478</td>\n",
       "      <td>1.0</td>\n",
       "      <td>Other</td>\n",
       "      <td>Other</td>\n",
       "      <td>28</td>\n",
       "      <td>8</td>\n",
       "      <td>2014</td>\n",
       "      <td>3</td>\n",
       "      <td>7</td>\n",
       "    </tr>\n",
       "    <tr>\n",
       "      <th>15366980</th>\n",
       "      <td>9.7</td>\n",
       "      <td>2010-05-22 14:47:00 UTC</td>\n",
       "      <td>-74.005312</td>\n",
       "      <td>40.740653</td>\n",
       "      <td>-73.998070</td>\n",
       "      <td>40.724963</td>\n",
       "      <td>5.0</td>\n",
       "      <td>Other</td>\n",
       "      <td>Other</td>\n",
       "      <td>22</td>\n",
       "      <td>5</td>\n",
       "      <td>2010</td>\n",
       "      <td>5</td>\n",
       "      <td>14</td>\n",
       "    </tr>\n",
       "    <tr>\n",
       "      <th>6227339</th>\n",
       "      <td>11.5</td>\n",
       "      <td>2015-03-09 11:25:47 UTC</td>\n",
       "      <td>-73.988739</td>\n",
       "      <td>40.727539</td>\n",
       "      <td>-74.007751</td>\n",
       "      <td>40.715561</td>\n",
       "      <td>1.0</td>\n",
       "      <td>Other</td>\n",
       "      <td>Other</td>\n",
       "      <td>9</td>\n",
       "      <td>3</td>\n",
       "      <td>2015</td>\n",
       "      <td>0</td>\n",
       "      <td>11</td>\n",
       "    </tr>\n",
       "    <tr>\n",
       "      <th>20752327</th>\n",
       "      <td>7.5</td>\n",
       "      <td>2013-06-17 16:19:00 UTC</td>\n",
       "      <td>-73.977525</td>\n",
       "      <td>40.773902</td>\n",
       "      <td>-73.955337</td>\n",
       "      <td>40.782412</td>\n",
       "      <td>6.0</td>\n",
       "      <td>Other</td>\n",
       "      <td>Other</td>\n",
       "      <td>17</td>\n",
       "      <td>6</td>\n",
       "      <td>2013</td>\n",
       "      <td>0</td>\n",
       "      <td>16</td>\n",
       "    </tr>\n",
       "  </tbody>\n",
       "</table>\n",
       "</div>"
      ],
      "text/plain": [
       "          fare_amount          pickup_datetime  pickup_longitude  \\\n",
       "6218096          12.9  2009-10-03 17:37:00 UTC        -73.999725   \n",
       "6675862          11.5  2014-08-28 07:41:53 UTC        -73.983010   \n",
       "15366980          9.7  2010-05-22 14:47:00 UTC        -74.005312   \n",
       "6227339          11.5  2015-03-09 11:25:47 UTC        -73.988739   \n",
       "20752327          7.5  2013-06-17 16:19:00 UTC        -73.977525   \n",
       "\n",
       "          pickup_latitude  dropoff_longitude  dropoff_latitude  \\\n",
       "6218096         40.723740         -73.961787         40.768573   \n",
       "6675862         40.723503         -74.011971         40.701478   \n",
       "15366980        40.740653         -73.998070         40.724963   \n",
       "6227339         40.727539         -74.007751         40.715561   \n",
       "20752327        40.773902         -73.955337         40.782412   \n",
       "\n",
       "          passenger_count pickup_area drop_area  pickup_day  pickup_month  \\\n",
       "6218096               2.0       Other     Other           3            10   \n",
       "6675862               1.0       Other     Other          28             8   \n",
       "15366980              5.0       Other     Other          22             5   \n",
       "6227339               1.0       Other     Other           9             3   \n",
       "20752327              6.0       Other     Other          17             6   \n",
       "\n",
       "          pickup_year  pickup_weekday  pickup_hour  \n",
       "6218096          2009               5           17  \n",
       "6675862          2014               3            7  \n",
       "15366980         2010               5           14  \n",
       "6227339          2015               0           11  \n",
       "20752327         2013               0           16  "
      ]
     },
     "execution_count": 141,
     "metadata": {},
     "output_type": "execute_result"
    }
   ],
   "source": [
    "df['pickup_hour']=pd.to_datetime(df.pickup_datetime,format='%Y-%m-%d %H:%M:%S UTC').dt.hour\n",
    "df.head()"
   ]
  },
  {
   "cell_type": "code",
   "execution_count": 142,
   "metadata": {},
   "outputs": [
    {
     "data": {
      "text/html": [
       "<div>\n",
       "<style scoped>\n",
       "    .dataframe tbody tr th:only-of-type {\n",
       "        vertical-align: middle;\n",
       "    }\n",
       "\n",
       "    .dataframe tbody tr th {\n",
       "        vertical-align: top;\n",
       "    }\n",
       "\n",
       "    .dataframe thead th {\n",
       "        text-align: right;\n",
       "    }\n",
       "</style>\n",
       "<table border=\"1\" class=\"dataframe\">\n",
       "  <thead>\n",
       "    <tr style=\"text-align: right;\">\n",
       "      <th></th>\n",
       "      <th>fare_amount</th>\n",
       "      <th>pickup_datetime</th>\n",
       "      <th>pickup_longitude</th>\n",
       "      <th>pickup_latitude</th>\n",
       "      <th>dropoff_longitude</th>\n",
       "      <th>dropoff_latitude</th>\n",
       "      <th>passenger_count</th>\n",
       "      <th>pickup_area</th>\n",
       "      <th>drop_area</th>\n",
       "      <th>pickup_day</th>\n",
       "      <th>pickup_month</th>\n",
       "      <th>pickup_year</th>\n",
       "      <th>pickup_weekday</th>\n",
       "      <th>pickup_hour</th>\n",
       "      <th>mid_night_trip</th>\n",
       "    </tr>\n",
       "  </thead>\n",
       "  <tbody>\n",
       "    <tr>\n",
       "      <th>6218096</th>\n",
       "      <td>12.9</td>\n",
       "      <td>2009-10-03 17:37:00 UTC</td>\n",
       "      <td>-73.999725</td>\n",
       "      <td>40.723740</td>\n",
       "      <td>-73.961787</td>\n",
       "      <td>40.768573</td>\n",
       "      <td>2.0</td>\n",
       "      <td>Other</td>\n",
       "      <td>Other</td>\n",
       "      <td>3</td>\n",
       "      <td>10</td>\n",
       "      <td>2009</td>\n",
       "      <td>5</td>\n",
       "      <td>17</td>\n",
       "      <td>0</td>\n",
       "    </tr>\n",
       "    <tr>\n",
       "      <th>6675862</th>\n",
       "      <td>11.5</td>\n",
       "      <td>2014-08-28 07:41:53 UTC</td>\n",
       "      <td>-73.983010</td>\n",
       "      <td>40.723503</td>\n",
       "      <td>-74.011971</td>\n",
       "      <td>40.701478</td>\n",
       "      <td>1.0</td>\n",
       "      <td>Other</td>\n",
       "      <td>Other</td>\n",
       "      <td>28</td>\n",
       "      <td>8</td>\n",
       "      <td>2014</td>\n",
       "      <td>3</td>\n",
       "      <td>7</td>\n",
       "      <td>0</td>\n",
       "    </tr>\n",
       "    <tr>\n",
       "      <th>15366980</th>\n",
       "      <td>9.7</td>\n",
       "      <td>2010-05-22 14:47:00 UTC</td>\n",
       "      <td>-74.005312</td>\n",
       "      <td>40.740653</td>\n",
       "      <td>-73.998070</td>\n",
       "      <td>40.724963</td>\n",
       "      <td>5.0</td>\n",
       "      <td>Other</td>\n",
       "      <td>Other</td>\n",
       "      <td>22</td>\n",
       "      <td>5</td>\n",
       "      <td>2010</td>\n",
       "      <td>5</td>\n",
       "      <td>14</td>\n",
       "      <td>0</td>\n",
       "    </tr>\n",
       "    <tr>\n",
       "      <th>6227339</th>\n",
       "      <td>11.5</td>\n",
       "      <td>2015-03-09 11:25:47 UTC</td>\n",
       "      <td>-73.988739</td>\n",
       "      <td>40.727539</td>\n",
       "      <td>-74.007751</td>\n",
       "      <td>40.715561</td>\n",
       "      <td>1.0</td>\n",
       "      <td>Other</td>\n",
       "      <td>Other</td>\n",
       "      <td>9</td>\n",
       "      <td>3</td>\n",
       "      <td>2015</td>\n",
       "      <td>0</td>\n",
       "      <td>11</td>\n",
       "      <td>0</td>\n",
       "    </tr>\n",
       "    <tr>\n",
       "      <th>20752327</th>\n",
       "      <td>7.5</td>\n",
       "      <td>2013-06-17 16:19:00 UTC</td>\n",
       "      <td>-73.977525</td>\n",
       "      <td>40.773902</td>\n",
       "      <td>-73.955337</td>\n",
       "      <td>40.782412</td>\n",
       "      <td>6.0</td>\n",
       "      <td>Other</td>\n",
       "      <td>Other</td>\n",
       "      <td>17</td>\n",
       "      <td>6</td>\n",
       "      <td>2013</td>\n",
       "      <td>0</td>\n",
       "      <td>16</td>\n",
       "      <td>0</td>\n",
       "    </tr>\n",
       "  </tbody>\n",
       "</table>\n",
       "</div>"
      ],
      "text/plain": [
       "          fare_amount          pickup_datetime  pickup_longitude  \\\n",
       "6218096          12.9  2009-10-03 17:37:00 UTC        -73.999725   \n",
       "6675862          11.5  2014-08-28 07:41:53 UTC        -73.983010   \n",
       "15366980          9.7  2010-05-22 14:47:00 UTC        -74.005312   \n",
       "6227339          11.5  2015-03-09 11:25:47 UTC        -73.988739   \n",
       "20752327          7.5  2013-06-17 16:19:00 UTC        -73.977525   \n",
       "\n",
       "          pickup_latitude  dropoff_longitude  dropoff_latitude  \\\n",
       "6218096         40.723740         -73.961787         40.768573   \n",
       "6675862         40.723503         -74.011971         40.701478   \n",
       "15366980        40.740653         -73.998070         40.724963   \n",
       "6227339         40.727539         -74.007751         40.715561   \n",
       "20752327        40.773902         -73.955337         40.782412   \n",
       "\n",
       "          passenger_count pickup_area drop_area  pickup_day  pickup_month  \\\n",
       "6218096               2.0       Other     Other           3            10   \n",
       "6675862               1.0       Other     Other          28             8   \n",
       "15366980              5.0       Other     Other          22             5   \n",
       "6227339               1.0       Other     Other           9             3   \n",
       "20752327              6.0       Other     Other          17             6   \n",
       "\n",
       "          pickup_year  pickup_weekday  pickup_hour  mid_night_trip  \n",
       "6218096          2009               5           17               0  \n",
       "6675862          2014               3            7               0  \n",
       "15366980         2010               5           14               0  \n",
       "6227339          2015               0           11               0  \n",
       "20752327         2013               0           16               0  "
      ]
     },
     "execution_count": 142,
     "metadata": {},
     "output_type": "execute_result"
    }
   ],
   "source": [
    "df['mid_night_trip']=((df['pickup_hour']>23) | (df['pickup_hour']<6)).astype(int)\n",
    "df.head()"
   ]
  },
  {
   "cell_type": "code",
   "execution_count": 143,
   "metadata": {},
   "outputs": [
    {
     "data": {
      "text/html": [
       "<div>\n",
       "<style scoped>\n",
       "    .dataframe tbody tr th:only-of-type {\n",
       "        vertical-align: middle;\n",
       "    }\n",
       "\n",
       "    .dataframe tbody tr th {\n",
       "        vertical-align: top;\n",
       "    }\n",
       "\n",
       "    .dataframe thead th {\n",
       "        text-align: right;\n",
       "    }\n",
       "</style>\n",
       "<table border=\"1\" class=\"dataframe\">\n",
       "  <thead>\n",
       "    <tr style=\"text-align: right;\">\n",
       "      <th></th>\n",
       "      <th>fare_amount</th>\n",
       "      <th>pickup_datetime</th>\n",
       "      <th>pickup_longitude</th>\n",
       "      <th>pickup_latitude</th>\n",
       "      <th>dropoff_longitude</th>\n",
       "      <th>dropoff_latitude</th>\n",
       "      <th>passenger_count</th>\n",
       "      <th>pickup_area</th>\n",
       "      <th>drop_area</th>\n",
       "      <th>pickup_day</th>\n",
       "      <th>pickup_month</th>\n",
       "      <th>pickup_year</th>\n",
       "      <th>pickup_weekday</th>\n",
       "      <th>pickup_hour</th>\n",
       "      <th>mid_night_trip</th>\n",
       "      <th>rush_hour_trip</th>\n",
       "    </tr>\n",
       "  </thead>\n",
       "  <tbody>\n",
       "    <tr>\n",
       "      <th>6218096</th>\n",
       "      <td>12.9</td>\n",
       "      <td>2009-10-03 17:37:00 UTC</td>\n",
       "      <td>-73.999725</td>\n",
       "      <td>40.723740</td>\n",
       "      <td>-73.961787</td>\n",
       "      <td>40.768573</td>\n",
       "      <td>2.0</td>\n",
       "      <td>Other</td>\n",
       "      <td>Other</td>\n",
       "      <td>3</td>\n",
       "      <td>10</td>\n",
       "      <td>2009</td>\n",
       "      <td>5</td>\n",
       "      <td>17</td>\n",
       "      <td>0</td>\n",
       "      <td>1</td>\n",
       "    </tr>\n",
       "    <tr>\n",
       "      <th>6675862</th>\n",
       "      <td>11.5</td>\n",
       "      <td>2014-08-28 07:41:53 UTC</td>\n",
       "      <td>-73.983010</td>\n",
       "      <td>40.723503</td>\n",
       "      <td>-74.011971</td>\n",
       "      <td>40.701478</td>\n",
       "      <td>1.0</td>\n",
       "      <td>Other</td>\n",
       "      <td>Other</td>\n",
       "      <td>28</td>\n",
       "      <td>8</td>\n",
       "      <td>2014</td>\n",
       "      <td>3</td>\n",
       "      <td>7</td>\n",
       "      <td>0</td>\n",
       "      <td>0</td>\n",
       "    </tr>\n",
       "    <tr>\n",
       "      <th>15366980</th>\n",
       "      <td>9.7</td>\n",
       "      <td>2010-05-22 14:47:00 UTC</td>\n",
       "      <td>-74.005312</td>\n",
       "      <td>40.740653</td>\n",
       "      <td>-73.998070</td>\n",
       "      <td>40.724963</td>\n",
       "      <td>5.0</td>\n",
       "      <td>Other</td>\n",
       "      <td>Other</td>\n",
       "      <td>22</td>\n",
       "      <td>5</td>\n",
       "      <td>2010</td>\n",
       "      <td>5</td>\n",
       "      <td>14</td>\n",
       "      <td>0</td>\n",
       "      <td>0</td>\n",
       "    </tr>\n",
       "    <tr>\n",
       "      <th>6227339</th>\n",
       "      <td>11.5</td>\n",
       "      <td>2015-03-09 11:25:47 UTC</td>\n",
       "      <td>-73.988739</td>\n",
       "      <td>40.727539</td>\n",
       "      <td>-74.007751</td>\n",
       "      <td>40.715561</td>\n",
       "      <td>1.0</td>\n",
       "      <td>Other</td>\n",
       "      <td>Other</td>\n",
       "      <td>9</td>\n",
       "      <td>3</td>\n",
       "      <td>2015</td>\n",
       "      <td>0</td>\n",
       "      <td>11</td>\n",
       "      <td>0</td>\n",
       "      <td>0</td>\n",
       "    </tr>\n",
       "    <tr>\n",
       "      <th>20752327</th>\n",
       "      <td>7.5</td>\n",
       "      <td>2013-06-17 16:19:00 UTC</td>\n",
       "      <td>-73.977525</td>\n",
       "      <td>40.773902</td>\n",
       "      <td>-73.955337</td>\n",
       "      <td>40.782412</td>\n",
       "      <td>6.0</td>\n",
       "      <td>Other</td>\n",
       "      <td>Other</td>\n",
       "      <td>17</td>\n",
       "      <td>6</td>\n",
       "      <td>2013</td>\n",
       "      <td>0</td>\n",
       "      <td>16</td>\n",
       "      <td>0</td>\n",
       "      <td>1</td>\n",
       "    </tr>\n",
       "  </tbody>\n",
       "</table>\n",
       "</div>"
      ],
      "text/plain": [
       "          fare_amount          pickup_datetime  pickup_longitude  \\\n",
       "6218096          12.9  2009-10-03 17:37:00 UTC        -73.999725   \n",
       "6675862          11.5  2014-08-28 07:41:53 UTC        -73.983010   \n",
       "15366980          9.7  2010-05-22 14:47:00 UTC        -74.005312   \n",
       "6227339          11.5  2015-03-09 11:25:47 UTC        -73.988739   \n",
       "20752327          7.5  2013-06-17 16:19:00 UTC        -73.977525   \n",
       "\n",
       "          pickup_latitude  dropoff_longitude  dropoff_latitude  \\\n",
       "6218096         40.723740         -73.961787         40.768573   \n",
       "6675862         40.723503         -74.011971         40.701478   \n",
       "15366980        40.740653         -73.998070         40.724963   \n",
       "6227339         40.727539         -74.007751         40.715561   \n",
       "20752327        40.773902         -73.955337         40.782412   \n",
       "\n",
       "          passenger_count pickup_area drop_area  pickup_day  pickup_month  \\\n",
       "6218096               2.0       Other     Other           3            10   \n",
       "6675862               1.0       Other     Other          28             8   \n",
       "15366980              5.0       Other     Other          22             5   \n",
       "6227339               1.0       Other     Other           9             3   \n",
       "20752327              6.0       Other     Other          17             6   \n",
       "\n",
       "          pickup_year  pickup_weekday  pickup_hour  mid_night_trip  \\\n",
       "6218096          2009               5           17               0   \n",
       "6675862          2014               3            7               0   \n",
       "15366980         2010               5           14               0   \n",
       "6227339          2015               0           11               0   \n",
       "20752327         2013               0           16               0   \n",
       "\n",
       "          rush_hour_trip  \n",
       "6218096                1  \n",
       "6675862                0  \n",
       "15366980               0  \n",
       "6227339                0  \n",
       "20752327               1  "
      ]
     },
     "execution_count": 143,
     "metadata": {},
     "output_type": "execute_result"
    }
   ],
   "source": [
    "df['rush_hour_trip']=((df['pickup_hour']>=16) & (df['pickup_hour']<=20)).astype(int)\n",
    "df.head()"
   ]
  },
  {
   "cell_type": "code",
   "execution_count": 144,
   "metadata": {},
   "outputs": [
    {
     "data": {
      "text/html": [
       "<div>\n",
       "<style scoped>\n",
       "    .dataframe tbody tr th:only-of-type {\n",
       "        vertical-align: middle;\n",
       "    }\n",
       "\n",
       "    .dataframe tbody tr th {\n",
       "        vertical-align: top;\n",
       "    }\n",
       "\n",
       "    .dataframe thead th {\n",
       "        text-align: right;\n",
       "    }\n",
       "</style>\n",
       "<table border=\"1\" class=\"dataframe\">\n",
       "  <thead>\n",
       "    <tr style=\"text-align: right;\">\n",
       "      <th></th>\n",
       "      <th>fare_amount</th>\n",
       "      <th>pickup_datetime</th>\n",
       "      <th>pickup_longitude</th>\n",
       "      <th>pickup_latitude</th>\n",
       "      <th>dropoff_longitude</th>\n",
       "      <th>dropoff_latitude</th>\n",
       "      <th>passenger_count</th>\n",
       "      <th>pickup_area</th>\n",
       "      <th>drop_area</th>\n",
       "      <th>pickup_day</th>\n",
       "      <th>pickup_month</th>\n",
       "      <th>pickup_year</th>\n",
       "      <th>pickup_weekday</th>\n",
       "      <th>pickup_hour</th>\n",
       "      <th>mid_night_trip</th>\n",
       "      <th>rush_hour_trip</th>\n",
       "      <th>snow_season</th>\n",
       "    </tr>\n",
       "  </thead>\n",
       "  <tbody>\n",
       "    <tr>\n",
       "      <th>6218096</th>\n",
       "      <td>12.9</td>\n",
       "      <td>2009-10-03 17:37:00 UTC</td>\n",
       "      <td>-73.999725</td>\n",
       "      <td>40.723740</td>\n",
       "      <td>-73.961787</td>\n",
       "      <td>40.768573</td>\n",
       "      <td>2.0</td>\n",
       "      <td>Other</td>\n",
       "      <td>Other</td>\n",
       "      <td>3</td>\n",
       "      <td>10</td>\n",
       "      <td>2009</td>\n",
       "      <td>5</td>\n",
       "      <td>17</td>\n",
       "      <td>0</td>\n",
       "      <td>1</td>\n",
       "      <td>0</td>\n",
       "    </tr>\n",
       "    <tr>\n",
       "      <th>6675862</th>\n",
       "      <td>11.5</td>\n",
       "      <td>2014-08-28 07:41:53 UTC</td>\n",
       "      <td>-73.983010</td>\n",
       "      <td>40.723503</td>\n",
       "      <td>-74.011971</td>\n",
       "      <td>40.701478</td>\n",
       "      <td>1.0</td>\n",
       "      <td>Other</td>\n",
       "      <td>Other</td>\n",
       "      <td>28</td>\n",
       "      <td>8</td>\n",
       "      <td>2014</td>\n",
       "      <td>3</td>\n",
       "      <td>7</td>\n",
       "      <td>0</td>\n",
       "      <td>0</td>\n",
       "      <td>0</td>\n",
       "    </tr>\n",
       "    <tr>\n",
       "      <th>15366980</th>\n",
       "      <td>9.7</td>\n",
       "      <td>2010-05-22 14:47:00 UTC</td>\n",
       "      <td>-74.005312</td>\n",
       "      <td>40.740653</td>\n",
       "      <td>-73.998070</td>\n",
       "      <td>40.724963</td>\n",
       "      <td>5.0</td>\n",
       "      <td>Other</td>\n",
       "      <td>Other</td>\n",
       "      <td>22</td>\n",
       "      <td>5</td>\n",
       "      <td>2010</td>\n",
       "      <td>5</td>\n",
       "      <td>14</td>\n",
       "      <td>0</td>\n",
       "      <td>0</td>\n",
       "      <td>0</td>\n",
       "    </tr>\n",
       "    <tr>\n",
       "      <th>6227339</th>\n",
       "      <td>11.5</td>\n",
       "      <td>2015-03-09 11:25:47 UTC</td>\n",
       "      <td>-73.988739</td>\n",
       "      <td>40.727539</td>\n",
       "      <td>-74.007751</td>\n",
       "      <td>40.715561</td>\n",
       "      <td>1.0</td>\n",
       "      <td>Other</td>\n",
       "      <td>Other</td>\n",
       "      <td>9</td>\n",
       "      <td>3</td>\n",
       "      <td>2015</td>\n",
       "      <td>0</td>\n",
       "      <td>11</td>\n",
       "      <td>0</td>\n",
       "      <td>0</td>\n",
       "      <td>0</td>\n",
       "    </tr>\n",
       "    <tr>\n",
       "      <th>20752327</th>\n",
       "      <td>7.5</td>\n",
       "      <td>2013-06-17 16:19:00 UTC</td>\n",
       "      <td>-73.977525</td>\n",
       "      <td>40.773902</td>\n",
       "      <td>-73.955337</td>\n",
       "      <td>40.782412</td>\n",
       "      <td>6.0</td>\n",
       "      <td>Other</td>\n",
       "      <td>Other</td>\n",
       "      <td>17</td>\n",
       "      <td>6</td>\n",
       "      <td>2013</td>\n",
       "      <td>0</td>\n",
       "      <td>16</td>\n",
       "      <td>0</td>\n",
       "      <td>1</td>\n",
       "      <td>0</td>\n",
       "    </tr>\n",
       "  </tbody>\n",
       "</table>\n",
       "</div>"
      ],
      "text/plain": [
       "          fare_amount          pickup_datetime  pickup_longitude  \\\n",
       "6218096          12.9  2009-10-03 17:37:00 UTC        -73.999725   \n",
       "6675862          11.5  2014-08-28 07:41:53 UTC        -73.983010   \n",
       "15366980          9.7  2010-05-22 14:47:00 UTC        -74.005312   \n",
       "6227339          11.5  2015-03-09 11:25:47 UTC        -73.988739   \n",
       "20752327          7.5  2013-06-17 16:19:00 UTC        -73.977525   \n",
       "\n",
       "          pickup_latitude  dropoff_longitude  dropoff_latitude  \\\n",
       "6218096         40.723740         -73.961787         40.768573   \n",
       "6675862         40.723503         -74.011971         40.701478   \n",
       "15366980        40.740653         -73.998070         40.724963   \n",
       "6227339         40.727539         -74.007751         40.715561   \n",
       "20752327        40.773902         -73.955337         40.782412   \n",
       "\n",
       "          passenger_count pickup_area drop_area  pickup_day  pickup_month  \\\n",
       "6218096               2.0       Other     Other           3            10   \n",
       "6675862               1.0       Other     Other          28             8   \n",
       "15366980              5.0       Other     Other          22             5   \n",
       "6227339               1.0       Other     Other           9             3   \n",
       "20752327              6.0       Other     Other          17             6   \n",
       "\n",
       "          pickup_year  pickup_weekday  pickup_hour  mid_night_trip  \\\n",
       "6218096          2009               5           17               0   \n",
       "6675862          2014               3            7               0   \n",
       "15366980         2010               5           14               0   \n",
       "6227339          2015               0           11               0   \n",
       "20752327         2013               0           16               0   \n",
       "\n",
       "          rush_hour_trip  snow_season  \n",
       "6218096                1            0  \n",
       "6675862                0            0  \n",
       "15366980               0            0  \n",
       "6227339                0            0  \n",
       "20752327               1            0  "
      ]
     },
     "execution_count": 144,
     "metadata": {},
     "output_type": "execute_result"
    }
   ],
   "source": [
    "df['snow_season']=((df['pickup_month']==1) | (df['pickup_month']==2)).astype(int)\n",
    "df.head()"
   ]
  },
  {
   "cell_type": "code",
   "execution_count": 172,
   "metadata": {},
   "outputs": [],
   "source": [
    "df=df.drop('pickup_datetime',axis=1)"
   ]
  },
  {
   "cell_type": "code",
   "execution_count": 145,
   "metadata": {},
   "outputs": [
    {
     "data": {
      "text/html": [
       "<div>\n",
       "<style scoped>\n",
       "    .dataframe tbody tr th:only-of-type {\n",
       "        vertical-align: middle;\n",
       "    }\n",
       "\n",
       "    .dataframe tbody tr th {\n",
       "        vertical-align: top;\n",
       "    }\n",
       "\n",
       "    .dataframe thead th {\n",
       "        text-align: right;\n",
       "    }\n",
       "</style>\n",
       "<table border=\"1\" class=\"dataframe\">\n",
       "  <thead>\n",
       "    <tr style=\"text-align: right;\">\n",
       "      <th></th>\n",
       "      <th>fare_amount</th>\n",
       "      <th>pickup_datetime</th>\n",
       "      <th>pickup_longitude</th>\n",
       "      <th>pickup_latitude</th>\n",
       "      <th>dropoff_longitude</th>\n",
       "      <th>dropoff_latitude</th>\n",
       "      <th>passenger_count</th>\n",
       "      <th>pickup_area</th>\n",
       "      <th>drop_area</th>\n",
       "      <th>pickup_day</th>\n",
       "      <th>pickup_month</th>\n",
       "      <th>pickup_year</th>\n",
       "      <th>pickup_weekday</th>\n",
       "      <th>pickup_hour</th>\n",
       "      <th>mid_night_trip</th>\n",
       "      <th>rush_hour_trip</th>\n",
       "      <th>snow_season</th>\n",
       "      <th>trip_distance</th>\n",
       "    </tr>\n",
       "  </thead>\n",
       "  <tbody>\n",
       "    <tr>\n",
       "      <th>6218096</th>\n",
       "      <td>12.9</td>\n",
       "      <td>2009-10-03 17:37:00 UTC</td>\n",
       "      <td>-73.999725</td>\n",
       "      <td>40.723740</td>\n",
       "      <td>-73.961787</td>\n",
       "      <td>40.768573</td>\n",
       "      <td>2.0</td>\n",
       "      <td>Other</td>\n",
       "      <td>Other</td>\n",
       "      <td>3</td>\n",
       "      <td>10</td>\n",
       "      <td>2009</td>\n",
       "      <td>5</td>\n",
       "      <td>17</td>\n",
       "      <td>0</td>\n",
       "      <td>1</td>\n",
       "      <td>0</td>\n",
       "      <td>5.920603</td>\n",
       "    </tr>\n",
       "    <tr>\n",
       "      <th>6675862</th>\n",
       "      <td>11.5</td>\n",
       "      <td>2014-08-28 07:41:53 UTC</td>\n",
       "      <td>-73.983010</td>\n",
       "      <td>40.723503</td>\n",
       "      <td>-74.011971</td>\n",
       "      <td>40.701478</td>\n",
       "      <td>1.0</td>\n",
       "      <td>Other</td>\n",
       "      <td>Other</td>\n",
       "      <td>28</td>\n",
       "      <td>8</td>\n",
       "      <td>2014</td>\n",
       "      <td>3</td>\n",
       "      <td>7</td>\n",
       "      <td>0</td>\n",
       "      <td>0</td>\n",
       "      <td>0</td>\n",
       "      <td>3.459899</td>\n",
       "    </tr>\n",
       "    <tr>\n",
       "      <th>15366980</th>\n",
       "      <td>9.7</td>\n",
       "      <td>2010-05-22 14:47:00 UTC</td>\n",
       "      <td>-74.005312</td>\n",
       "      <td>40.740653</td>\n",
       "      <td>-73.998070</td>\n",
       "      <td>40.724963</td>\n",
       "      <td>5.0</td>\n",
       "      <td>Other</td>\n",
       "      <td>Other</td>\n",
       "      <td>22</td>\n",
       "      <td>5</td>\n",
       "      <td>2010</td>\n",
       "      <td>5</td>\n",
       "      <td>14</td>\n",
       "      <td>0</td>\n",
       "      <td>0</td>\n",
       "      <td>0</td>\n",
       "      <td>1.846633</td>\n",
       "    </tr>\n",
       "    <tr>\n",
       "      <th>6227339</th>\n",
       "      <td>11.5</td>\n",
       "      <td>2015-03-09 11:25:47 UTC</td>\n",
       "      <td>-73.988739</td>\n",
       "      <td>40.727539</td>\n",
       "      <td>-74.007751</td>\n",
       "      <td>40.715561</td>\n",
       "      <td>1.0</td>\n",
       "      <td>Other</td>\n",
       "      <td>Other</td>\n",
       "      <td>9</td>\n",
       "      <td>3</td>\n",
       "      <td>2015</td>\n",
       "      <td>0</td>\n",
       "      <td>11</td>\n",
       "      <td>0</td>\n",
       "      <td>0</td>\n",
       "      <td>0</td>\n",
       "      <td>2.085571</td>\n",
       "    </tr>\n",
       "    <tr>\n",
       "      <th>20752327</th>\n",
       "      <td>7.5</td>\n",
       "      <td>2013-06-17 16:19:00 UTC</td>\n",
       "      <td>-73.977525</td>\n",
       "      <td>40.773902</td>\n",
       "      <td>-73.955337</td>\n",
       "      <td>40.782412</td>\n",
       "      <td>6.0</td>\n",
       "      <td>Other</td>\n",
       "      <td>Other</td>\n",
       "      <td>17</td>\n",
       "      <td>6</td>\n",
       "      <td>2013</td>\n",
       "      <td>0</td>\n",
       "      <td>16</td>\n",
       "      <td>0</td>\n",
       "      <td>1</td>\n",
       "      <td>0</td>\n",
       "      <td>2.097940</td>\n",
       "    </tr>\n",
       "  </tbody>\n",
       "</table>\n",
       "</div>"
      ],
      "text/plain": [
       "          fare_amount          pickup_datetime  pickup_longitude  \\\n",
       "6218096          12.9  2009-10-03 17:37:00 UTC        -73.999725   \n",
       "6675862          11.5  2014-08-28 07:41:53 UTC        -73.983010   \n",
       "15366980          9.7  2010-05-22 14:47:00 UTC        -74.005312   \n",
       "6227339          11.5  2015-03-09 11:25:47 UTC        -73.988739   \n",
       "20752327          7.5  2013-06-17 16:19:00 UTC        -73.977525   \n",
       "\n",
       "          pickup_latitude  dropoff_longitude  dropoff_latitude  \\\n",
       "6218096         40.723740         -73.961787         40.768573   \n",
       "6675862         40.723503         -74.011971         40.701478   \n",
       "15366980        40.740653         -73.998070         40.724963   \n",
       "6227339         40.727539         -74.007751         40.715561   \n",
       "20752327        40.773902         -73.955337         40.782412   \n",
       "\n",
       "          passenger_count pickup_area drop_area  pickup_day  pickup_month  \\\n",
       "6218096               2.0       Other     Other           3            10   \n",
       "6675862               1.0       Other     Other          28             8   \n",
       "15366980              5.0       Other     Other          22             5   \n",
       "6227339               1.0       Other     Other           9             3   \n",
       "20752327              6.0       Other     Other          17             6   \n",
       "\n",
       "          pickup_year  pickup_weekday  pickup_hour  mid_night_trip  \\\n",
       "6218096          2009               5           17               0   \n",
       "6675862          2014               3            7               0   \n",
       "15366980         2010               5           14               0   \n",
       "6227339          2015               0           11               0   \n",
       "20752327         2013               0           16               0   \n",
       "\n",
       "          rush_hour_trip  snow_season  trip_distance  \n",
       "6218096                1            0       5.920603  \n",
       "6675862                0            0       3.459899  \n",
       "15366980               0            0       1.846633  \n",
       "6227339                0            0       2.085571  \n",
       "20752327               1            0       2.097940  "
      ]
     },
     "execution_count": 145,
     "metadata": {},
     "output_type": "execute_result"
    }
   ],
   "source": [
    "#Distance calculator between two pickup and drop coordinates\n",
    "\n",
    "from geopy.distance import geodesic\n",
    "\n",
    "def distance_calculate(lat,long,drop_lat,drop_long):    \n",
    "    newport_ri = (lat,long)\n",
    "    cleveland_oh = (drop_lat,drop_long)\n",
    "    dist=geodesic(newport_ri, cleveland_oh).km\n",
    "    return dist"
   ]
  },
  {
   "cell_type": "code",
   "execution_count": null,
   "metadata": {},
   "outputs": [],
   "source": [
    "df['trip_distance']=list(map(distance_calculate,df['pickup_latitude'],df['pickup_longitude'],df['dropoff_latitude'],df['dropoff_longitude']))\n",
    "df.head()"
   ]
  },
  {
   "cell_type": "code",
   "execution_count": null,
   "metadata": {},
   "outputs": [],
   "source": [
    "def place_mapping(lat,lang,place_area,place_name):\n",
    "    if (lat>= place_area['min_lat']) & (lat<= place_area['max_lat']) & (lang>= place_area['min_long']) & (lang<= place_area['max_long']):\n",
    "        return place_name\n",
    "    return \"Other\""
   ]
  },
  {
   "cell_type": "code",
   "execution_count": null,
   "metadata": {},
   "outputs": [],
   "source": [
    "df['pickup_area']=df.apply(lambda row:place_mapping(row['pickup_latitude'],row['pickup_longitude'],Manhattan,\"Manhattan\"),axis=1)\n",
    "df['pickup_area']=df.apply(lambda row:place_mapping(row['pickup_latitude'],row['pickup_longitude'],JFK,\"JFK Airport\"),axis=1)\n"
   ]
  },
  {
   "cell_type": "code",
   "execution_count": null,
   "metadata": {},
   "outputs": [],
   "source": [
    "df['drop_area']=df.apply(lambda row:place_mapping(row['dropoff_latitude'],row['dropoff_longitude'],Manhattan,\"Manhattan\"),axis=1)\n",
    "df['drop_area']=df.apply(lambda row:place_mapping(row['dropoff_latitude'],row['dropoff_longitude'],JFK,\"JFK Airport\"),axis=1)"
   ]
  },
  {
   "cell_type": "code",
   "execution_count": 173,
   "metadata": {},
   "outputs": [
    {
     "data": {
      "text/html": [
       "<div>\n",
       "<style scoped>\n",
       "    .dataframe tbody tr th:only-of-type {\n",
       "        vertical-align: middle;\n",
       "    }\n",
       "\n",
       "    .dataframe tbody tr th {\n",
       "        vertical-align: top;\n",
       "    }\n",
       "\n",
       "    .dataframe thead th {\n",
       "        text-align: right;\n",
       "    }\n",
       "</style>\n",
       "<table border=\"1\" class=\"dataframe\">\n",
       "  <thead>\n",
       "    <tr style=\"text-align: right;\">\n",
       "      <th></th>\n",
       "      <th>fare_amount</th>\n",
       "      <th>pickup_longitude</th>\n",
       "      <th>pickup_latitude</th>\n",
       "      <th>dropoff_longitude</th>\n",
       "      <th>dropoff_latitude</th>\n",
       "      <th>passenger_count</th>\n",
       "      <th>pickup_area</th>\n",
       "      <th>drop_area</th>\n",
       "      <th>pickup_day</th>\n",
       "      <th>pickup_month</th>\n",
       "      <th>pickup_year</th>\n",
       "      <th>pickup_weekday</th>\n",
       "      <th>pickup_hour</th>\n",
       "      <th>mid_night_trip</th>\n",
       "      <th>rush_hour_trip</th>\n",
       "      <th>snow_season</th>\n",
       "      <th>trip_distance</th>\n",
       "    </tr>\n",
       "  </thead>\n",
       "  <tbody>\n",
       "    <tr>\n",
       "      <th>6218096</th>\n",
       "      <td>12.9</td>\n",
       "      <td>-73.999725</td>\n",
       "      <td>40.723740</td>\n",
       "      <td>-73.961787</td>\n",
       "      <td>40.768573</td>\n",
       "      <td>2.0</td>\n",
       "      <td>Other</td>\n",
       "      <td>Other</td>\n",
       "      <td>3</td>\n",
       "      <td>10</td>\n",
       "      <td>2009</td>\n",
       "      <td>5</td>\n",
       "      <td>17</td>\n",
       "      <td>0</td>\n",
       "      <td>1</td>\n",
       "      <td>0</td>\n",
       "      <td>5.920603</td>\n",
       "    </tr>\n",
       "    <tr>\n",
       "      <th>6675862</th>\n",
       "      <td>11.5</td>\n",
       "      <td>-73.983010</td>\n",
       "      <td>40.723503</td>\n",
       "      <td>-74.011971</td>\n",
       "      <td>40.701478</td>\n",
       "      <td>1.0</td>\n",
       "      <td>Other</td>\n",
       "      <td>Other</td>\n",
       "      <td>28</td>\n",
       "      <td>8</td>\n",
       "      <td>2014</td>\n",
       "      <td>3</td>\n",
       "      <td>7</td>\n",
       "      <td>0</td>\n",
       "      <td>0</td>\n",
       "      <td>0</td>\n",
       "      <td>3.459899</td>\n",
       "    </tr>\n",
       "    <tr>\n",
       "      <th>15366980</th>\n",
       "      <td>9.7</td>\n",
       "      <td>-74.005312</td>\n",
       "      <td>40.740653</td>\n",
       "      <td>-73.998070</td>\n",
       "      <td>40.724963</td>\n",
       "      <td>5.0</td>\n",
       "      <td>Other</td>\n",
       "      <td>Other</td>\n",
       "      <td>22</td>\n",
       "      <td>5</td>\n",
       "      <td>2010</td>\n",
       "      <td>5</td>\n",
       "      <td>14</td>\n",
       "      <td>0</td>\n",
       "      <td>0</td>\n",
       "      <td>0</td>\n",
       "      <td>1.846633</td>\n",
       "    </tr>\n",
       "    <tr>\n",
       "      <th>6227339</th>\n",
       "      <td>11.5</td>\n",
       "      <td>-73.988739</td>\n",
       "      <td>40.727539</td>\n",
       "      <td>-74.007751</td>\n",
       "      <td>40.715561</td>\n",
       "      <td>1.0</td>\n",
       "      <td>Other</td>\n",
       "      <td>Other</td>\n",
       "      <td>9</td>\n",
       "      <td>3</td>\n",
       "      <td>2015</td>\n",
       "      <td>0</td>\n",
       "      <td>11</td>\n",
       "      <td>0</td>\n",
       "      <td>0</td>\n",
       "      <td>0</td>\n",
       "      <td>2.085571</td>\n",
       "    </tr>\n",
       "    <tr>\n",
       "      <th>20752327</th>\n",
       "      <td>7.5</td>\n",
       "      <td>-73.977525</td>\n",
       "      <td>40.773902</td>\n",
       "      <td>-73.955337</td>\n",
       "      <td>40.782412</td>\n",
       "      <td>6.0</td>\n",
       "      <td>Other</td>\n",
       "      <td>Other</td>\n",
       "      <td>17</td>\n",
       "      <td>6</td>\n",
       "      <td>2013</td>\n",
       "      <td>0</td>\n",
       "      <td>16</td>\n",
       "      <td>0</td>\n",
       "      <td>1</td>\n",
       "      <td>0</td>\n",
       "      <td>2.097940</td>\n",
       "    </tr>\n",
       "  </tbody>\n",
       "</table>\n",
       "</div>"
      ],
      "text/plain": [
       "          fare_amount  pickup_longitude  pickup_latitude  dropoff_longitude  \\\n",
       "6218096          12.9        -73.999725        40.723740         -73.961787   \n",
       "6675862          11.5        -73.983010        40.723503         -74.011971   \n",
       "15366980          9.7        -74.005312        40.740653         -73.998070   \n",
       "6227339          11.5        -73.988739        40.727539         -74.007751   \n",
       "20752327          7.5        -73.977525        40.773902         -73.955337   \n",
       "\n",
       "          dropoff_latitude  passenger_count pickup_area drop_area  pickup_day  \\\n",
       "6218096          40.768573              2.0       Other     Other           3   \n",
       "6675862          40.701478              1.0       Other     Other          28   \n",
       "15366980         40.724963              5.0       Other     Other          22   \n",
       "6227339          40.715561              1.0       Other     Other           9   \n",
       "20752327         40.782412              6.0       Other     Other          17   \n",
       "\n",
       "          pickup_month  pickup_year  pickup_weekday  pickup_hour  \\\n",
       "6218096             10         2009               5           17   \n",
       "6675862              8         2014               3            7   \n",
       "15366980             5         2010               5           14   \n",
       "6227339              3         2015               0           11   \n",
       "20752327             6         2013               0           16   \n",
       "\n",
       "          mid_night_trip  rush_hour_trip  snow_season  trip_distance  \n",
       "6218096                0               1            0       5.920603  \n",
       "6675862                0               0            0       3.459899  \n",
       "15366980               0               0            0       1.846633  \n",
       "6227339                0               0            0       2.085571  \n",
       "20752327               0               1            0       2.097940  "
      ]
     },
     "execution_count": 173,
     "metadata": {},
     "output_type": "execute_result"
    }
   ],
   "source": [
    "df.head()"
   ]
  },
  {
   "cell_type": "markdown",
   "metadata": {},
   "source": [
    "<h1> Data Visualization </h1>"
   ]
  },
  {
   "cell_type": "code",
   "execution_count": 147,
   "metadata": {},
   "outputs": [
    {
     "data": {
      "image/png": "[encoded data removed]",
      "text/plain": [
       "<Figure size 864x576 with 4 Axes>"
      ]
     },
     "metadata": {
      "needs_background": "light"
     },
     "output_type": "display_data"
    }
   ],
   "source": [
    "plt.figure(figsize=(12,8))\n",
    "plt.subplot(2,2,1)\n",
    "sns.countplot(y='pickup_year', data=df)\n",
    "plt.subplot(2,2,2)\n",
    "sns.countplot(x='pickup_month', data=df)\n",
    "plt.subplot(2,2,3)\n",
    "sns.countplot(x='pickup_hour', data=df)\n",
    "plt.subplot(2,2,4)\n",
    "sns.countplot(y='pickup_weekday', data=df)\n",
    "\n",
    "plt.show()"
   ]
  },
  {
   "cell_type": "code",
   "execution_count": 171,
   "metadata": {},
   "outputs": [
    {
     "data": {
      "image/png": "[encoded data removed]",
      "text/plain": [
       "<Figure size 864x576 with 4 Axes>"
      ]
     },
     "metadata": {
      "needs_background": "light"
     },
     "output_type": "display_data"
    }
   ],
   "source": [
    "plt.figure(figsize=(12,8))\n",
    "\n",
    "plt.subplot(2,2,1)\n",
    "sns.countplot(y='mid_night_trip', data=df)\n",
    "\n",
    "plt.subplot(2,2,2)\n",
    "sns.countplot(x='rush_hour_trip', data=df)\n",
    "\n",
    "plt.subplot(2,2,3)\n",
    "sns.countplot(x='passenger_count', data=df)\n",
    "\n",
    "plt.subplot(2,2,4)\n",
    "sns.countplot(y='snow_season', data=df)\n",
    "\n",
    "plt.show()"
   ]
  },
  {
   "cell_type": "code",
   "execution_count": 174,
   "metadata": {},
   "outputs": [
    {
     "data": {
      "text/plain": [
       "<matplotlib.axes._subplots.AxesSubplot at 0x1732fe11ac8>"
      ]
     },
     "execution_count": 174,
     "metadata": {},
     "output_type": "execute_result"
    },
    {
     "data": {
      "image/png": "[encoded data removed]",
      "text/plain": [
       "<Figure size 864x576 with 3 Axes>"
      ]
     },
     "metadata": {
      "needs_background": "light"
     },
     "output_type": "display_data"
    },
    {
     "data": {
      "image/png": "[encoded data removed]",
      "text/plain": [
       "<Figure size 432x288 with 1 Axes>"
      ]
     },
     "metadata": {
      "needs_background": "light"
     },
     "output_type": "display_data"
    }
   ],
   "source": [
    "plt.figure(figsize=(12,8))\n",
    "\n",
    "plt.subplot(2,2,1)\n",
    "sns.distplot(df['fare_amount'],kde=True)\n",
    "\n",
    "plt.subplot(2,2,2)\n",
    "sns.distplot(df['trip_distance'],kde=True)\n",
    "\n",
    "df.plot(x='trip_distance',y='fare_amount',kind='scatter')"
   ]
  },
  {
   "cell_type": "code",
   "execution_count": 194,
   "metadata": {},
   "outputs": [
    {
     "data": {
      "text/plain": [
       "<matplotlib.axes._subplots.AxesSubplot at 0x17208d9f940>"
      ]
     },
     "execution_count": 194,
     "metadata": {},
     "output_type": "execute_result"
    },
    {
     "data": {
      "image/png": "[encoded data removed]",
      "text/plain": [
       "<Figure size 432x288 with 1 Axes>"
      ]
     },
     "metadata": {
      "needs_background": "light"
     },
     "output_type": "display_data"
    }
   ],
   "source": [
    "sns.distplot(np.log(df['fare_amount']),kde=True)"
   ]
  },
  {
   "cell_type": "code",
   "execution_count": 193,
   "metadata": {},
   "outputs": [
    {
     "data": {
      "text/plain": [
       "(-4.605170185988091, 6.369609844561183)"
      ]
     },
     "execution_count": 193,
     "metadata": {},
     "output_type": "execute_result"
    }
   ],
   "source": [
    "np.log(df['fare_amount']).min(),np.log(df['fare_amount']).max()"
   ]
  },
  {
   "cell_type": "code",
   "execution_count": 195,
   "metadata": {},
   "outputs": [],
   "source": [
    "df['fare_amount_log']=np.log(df['fare_amount'])"
   ]
  },
  {
   "cell_type": "code",
   "execution_count": 205,
   "metadata": {},
   "outputs": [
    {
     "data": {
      "text/plain": [
       "{'whiskers': [<matplotlib.lines.Line2D at 0x17352fce860>,\n",
       "  <matplotlib.lines.Line2D at 0x17352fceba8>],\n",
       " 'caps': [<matplotlib.lines.Line2D at 0x17352fceef0>,\n",
       "  <matplotlib.lines.Line2D at 0x17352fd8278>],\n",
       " 'boxes': [<matplotlib.lines.Line2D at 0x17352fce4e0>],\n",
       " 'medians': [<matplotlib.lines.Line2D at 0x17352fd85c0>],\n",
       " 'fliers': [<matplotlib.lines.Line2D at 0x17352fd8908>],\n",
       " 'means': []}"
      ]
     },
     "execution_count": 205,
     "metadata": {},
     "output_type": "execute_result"
    },
    {
     "data": {
      "image/png": "[encoded data removed]",
      "text/plain": [
       "<Figure size 432x288 with 1 Axes>"
      ]
     },
     "metadata": {
      "needs_background": "light"
     },
     "output_type": "display_data"
    }
   ],
   "source": [
    "plt.boxplot(df['fare_amount_log'])\n",
    "\n",
    "df[df['fare_amount_log']<0].count()\n",
    "\n",
    "df=df[~(df['fare_amount_log']<0)]\n",
    "plt.boxplot(df['fare_amount_log'])"
   ]
  },
  {
   "cell_type": "code",
   "execution_count": 212,
   "metadata": {},
   "outputs": [
    {
     "data": {
      "text/html": [
       "<div>\n",
       "<style scoped>\n",
       "    .dataframe tbody tr th:only-of-type {\n",
       "        vertical-align: middle;\n",
       "    }\n",
       "\n",
       "    .dataframe tbody tr th {\n",
       "        vertical-align: top;\n",
       "    }\n",
       "\n",
       "    .dataframe thead th {\n",
       "        text-align: right;\n",
       "    }\n",
       "</style>\n",
       "<table border=\"1\" class=\"dataframe\">\n",
       "  <thead>\n",
       "    <tr style=\"text-align: right;\">\n",
       "      <th></th>\n",
       "      <th>fare_amount</th>\n",
       "      <th>pickup_longitude</th>\n",
       "      <th>pickup_latitude</th>\n",
       "      <th>dropoff_longitude</th>\n",
       "      <th>dropoff_latitude</th>\n",
       "      <th>passenger_count</th>\n",
       "      <th>pickup_area</th>\n",
       "      <th>drop_area</th>\n",
       "      <th>pickup_day</th>\n",
       "      <th>pickup_month</th>\n",
       "      <th>pickup_year</th>\n",
       "      <th>pickup_weekday</th>\n",
       "      <th>pickup_hour</th>\n",
       "      <th>mid_night_trip</th>\n",
       "      <th>rush_hour_trip</th>\n",
       "      <th>snow_season</th>\n",
       "      <th>trip_distance</th>\n",
       "      <th>fare_amount_new</th>\n",
       "      <th>fare_amount_log</th>\n",
       "    </tr>\n",
       "  </thead>\n",
       "  <tbody>\n",
       "    <tr>\n",
       "      <th>6218096</th>\n",
       "      <td>12.9</td>\n",
       "      <td>-73.999725</td>\n",
       "      <td>40.723740</td>\n",
       "      <td>-73.961787</td>\n",
       "      <td>40.768573</td>\n",
       "      <td>2.0</td>\n",
       "      <td>1</td>\n",
       "      <td>1</td>\n",
       "      <td>3</td>\n",
       "      <td>10</td>\n",
       "      <td>2009</td>\n",
       "      <td>5</td>\n",
       "      <td>17</td>\n",
       "      <td>0</td>\n",
       "      <td>1</td>\n",
       "      <td>0</td>\n",
       "      <td>5.920603</td>\n",
       "      <td>0.022079</td>\n",
       "      <td>2.557227</td>\n",
       "    </tr>\n",
       "    <tr>\n",
       "      <th>6675862</th>\n",
       "      <td>11.5</td>\n",
       "      <td>-73.983010</td>\n",
       "      <td>40.723503</td>\n",
       "      <td>-74.011971</td>\n",
       "      <td>40.701478</td>\n",
       "      <td>1.0</td>\n",
       "      <td>1</td>\n",
       "      <td>1</td>\n",
       "      <td>28</td>\n",
       "      <td>8</td>\n",
       "      <td>2014</td>\n",
       "      <td>3</td>\n",
       "      <td>7</td>\n",
       "      <td>0</td>\n",
       "      <td>0</td>\n",
       "      <td>0</td>\n",
       "      <td>3.459899</td>\n",
       "      <td>0.019681</td>\n",
       "      <td>2.442347</td>\n",
       "    </tr>\n",
       "    <tr>\n",
       "      <th>15366980</th>\n",
       "      <td>9.7</td>\n",
       "      <td>-74.005312</td>\n",
       "      <td>40.740653</td>\n",
       "      <td>-73.998070</td>\n",
       "      <td>40.724963</td>\n",
       "      <td>5.0</td>\n",
       "      <td>1</td>\n",
       "      <td>1</td>\n",
       "      <td>22</td>\n",
       "      <td>5</td>\n",
       "      <td>2010</td>\n",
       "      <td>5</td>\n",
       "      <td>14</td>\n",
       "      <td>0</td>\n",
       "      <td>0</td>\n",
       "      <td>0</td>\n",
       "      <td>1.846633</td>\n",
       "      <td>0.016598</td>\n",
       "      <td>2.272126</td>\n",
       "    </tr>\n",
       "    <tr>\n",
       "      <th>6227339</th>\n",
       "      <td>11.5</td>\n",
       "      <td>-73.988739</td>\n",
       "      <td>40.727539</td>\n",
       "      <td>-74.007751</td>\n",
       "      <td>40.715561</td>\n",
       "      <td>1.0</td>\n",
       "      <td>1</td>\n",
       "      <td>1</td>\n",
       "      <td>9</td>\n",
       "      <td>3</td>\n",
       "      <td>2015</td>\n",
       "      <td>0</td>\n",
       "      <td>11</td>\n",
       "      <td>0</td>\n",
       "      <td>0</td>\n",
       "      <td>0</td>\n",
       "      <td>2.085571</td>\n",
       "      <td>0.019681</td>\n",
       "      <td>2.442347</td>\n",
       "    </tr>\n",
       "    <tr>\n",
       "      <th>20752327</th>\n",
       "      <td>7.5</td>\n",
       "      <td>-73.977525</td>\n",
       "      <td>40.773902</td>\n",
       "      <td>-73.955337</td>\n",
       "      <td>40.782412</td>\n",
       "      <td>6.0</td>\n",
       "      <td>1</td>\n",
       "      <td>1</td>\n",
       "      <td>17</td>\n",
       "      <td>6</td>\n",
       "      <td>2013</td>\n",
       "      <td>0</td>\n",
       "      <td>16</td>\n",
       "      <td>0</td>\n",
       "      <td>1</td>\n",
       "      <td>0</td>\n",
       "      <td>2.097940</td>\n",
       "      <td>0.012829</td>\n",
       "      <td>2.014903</td>\n",
       "    </tr>\n",
       "  </tbody>\n",
       "</table>\n",
       "</div>"
      ],
      "text/plain": [
       "          fare_amount  pickup_longitude  pickup_latitude  dropoff_longitude  \\\n",
       "6218096          12.9        -73.999725        40.723740         -73.961787   \n",
       "6675862          11.5        -73.983010        40.723503         -74.011971   \n",
       "15366980          9.7        -74.005312        40.740653         -73.998070   \n",
       "6227339          11.5        -73.988739        40.727539         -74.007751   \n",
       "20752327          7.5        -73.977525        40.773902         -73.955337   \n",
       "\n",
       "          dropoff_latitude  passenger_count  pickup_area  drop_area  \\\n",
       "6218096          40.768573              2.0            1          1   \n",
       "6675862          40.701478              1.0            1          1   \n",
       "15366980         40.724963              5.0            1          1   \n",
       "6227339          40.715561              1.0            1          1   \n",
       "20752327         40.782412              6.0            1          1   \n",
       "\n",
       "          pickup_day  pickup_month  pickup_year  pickup_weekday  pickup_hour  \\\n",
       "6218096            3            10         2009               5           17   \n",
       "6675862           28             8         2014               3            7   \n",
       "15366980          22             5         2010               5           14   \n",
       "6227339            9             3         2015               0           11   \n",
       "20752327          17             6         2013               0           16   \n",
       "\n",
       "          mid_night_trip  rush_hour_trip  snow_season  trip_distance  \\\n",
       "6218096                0               1            0       5.920603   \n",
       "6675862                0               0            0       3.459899   \n",
       "15366980               0               0            0       1.846633   \n",
       "6227339                0               0            0       2.085571   \n",
       "20752327               0               1            0       2.097940   \n",
       "\n",
       "          fare_amount_new  fare_amount_log  \n",
       "6218096          0.022079         2.557227  \n",
       "6675862          0.019681         2.442347  \n",
       "15366980         0.016598         2.272126  \n",
       "6227339          0.019681         2.442347  \n",
       "20752327         0.012829         2.014903  "
      ]
     },
     "execution_count": 212,
     "metadata": {},
     "output_type": "execute_result"
    }
   ],
   "source": [
    "from sklearn.preprocessing import LabelEncoder\n",
    "\n",
    "lr=LabelEncoder()\n",
    "df['pickup_area']=lr.fit_transform(df['pickup_area'])\n",
    "df['drop_area']=lr.fit_transform(df['drop_area'])\n",
    "\n",
    "df.head()"
   ]
  },
  {
   "cell_type": "code",
   "execution_count": 214,
   "metadata": {},
   "outputs": [],
   "source": [
    "X=df.drop(columns=['fare_amount_log','fare_amount','fare_amount_new'])\n",
    "y=df['fare_amount_log']"
   ]
  },
  {
   "cell_type": "code",
   "execution_count": 215,
   "metadata": {},
   "outputs": [],
   "source": [
    "from sklearn.model_selection import train_test_split\n",
    "\n",
    "X_train,X_test,y_train,y_test=train_test_split(X,y,test_size=0.2,random_state=45)"
   ]
  },
  {
   "cell_type": "code",
   "execution_count": 219,
   "metadata": {},
   "outputs": [
    {
     "data": {
      "text/plain": [
       "0.12685778249077992"
      ]
     },
     "execution_count": 219,
     "metadata": {},
     "output_type": "execute_result"
    }
   ],
   "source": [
    "from sklearn.linear_model import LinearRegression\n",
    "from sklearn.metrics import mean_squared_error\n",
    "\n",
    "reg=LinearRegression()\n",
    "reg.fit(X_train,y_train)\n",
    "y_pred=reg.predict(X_test)\n",
    "\n",
    "mean_squared_error(y_test,y_pred)"
   ]
  },
  {
   "cell_type": "code",
   "execution_count": null,
   "metadata": {},
   "outputs": [],
   "source": []
  }
 ],
 "metadata": {
  "kernelspec": {
   "display_name": "Python 3",
   "language": "python",
   "name": "python3"
  },
  "language_info": {
   "codemirror_mode": {
    "name": "ipython",
    "version": 3
   },
   "file_extension": ".py",
   "mimetype": "text/x-python",
   "name": "python",
   "nbconvert_exporter": "python",
   "pygments_lexer": "ipython3",
   "version": "3.6.8"
  }
 },
 "nbformat": 4,
 "nbformat_minor": 2
}

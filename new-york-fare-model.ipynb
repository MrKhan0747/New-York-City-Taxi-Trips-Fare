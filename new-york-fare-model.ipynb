{
 "cells": [
  {
   "cell_type": "markdown",
   "metadata": {},
   "source": [
    "<h1> New York Taxi Fare Price Prediction </h1>\n",
    "\n",
    "In this project using <b>New York</b> dataset we will predict the fare price of next trip.\n",
    "\n",
    "The dataset can be downloaded from https://www.kaggle.com/kentonnlp/2014-new-york-city-taxi-trips\n",
    "\n",
    "The dataset contains 8 features like pickup lat-lang and drop lat-lang"
   ]
  },
  {
   "cell_type": "code",
   "execution_count": null,
   "metadata": {},
   "outputs": [],
   "source": [
    "import numpy as np\n",
    "import pandas as pd\n",
    "import seaborn as sns\n",
    "import matplotlib.pyplot as plt\n",
    "%matplotlib inline"
   ]
  },
  {
   "cell_type": "code",
   "execution_count": null,
   "metadata": {},
   "outputs": [],
   "source": [
    "df=pd.read_csv('./Dataset/train.csv')\n",
    "df.head()"
   ]
  },
  {
   "cell_type": "code",
   "execution_count": 186,
   "metadata": {},
   "outputs": [
    {
     "data": {
      "text/html": [
       "<div>\n",
       "<style scoped>\n",
       "    .dataframe tbody tr th:only-of-type {\n",
       "        vertical-align: middle;\n",
       "    }\n",
       "\n",
       "    .dataframe tbody tr th {\n",
       "        vertical-align: top;\n",
       "    }\n",
       "\n",
       "    .dataframe thead th {\n",
       "        text-align: right;\n",
       "    }\n",
       "</style>\n",
       "<table border=\"1\" class=\"dataframe\">\n",
       "  <thead>\n",
       "    <tr style=\"text-align: right;\">\n",
       "      <th></th>\n",
       "      <th>key</th>\n",
       "      <th>pickup_datetime</th>\n",
       "      <th>pickup_longitude</th>\n",
       "      <th>pickup_latitude</th>\n",
       "      <th>dropoff_longitude</th>\n",
       "      <th>dropoff_latitude</th>\n",
       "      <th>passenger_count</th>\n",
       "    </tr>\n",
       "  </thead>\n",
       "  <tbody>\n",
       "    <tr>\n",
       "      <th>0</th>\n",
       "      <td>2015-01-27 13:08:24.0000002</td>\n",
       "      <td>2015-01-27 13:08:24 UTC</td>\n",
       "      <td>-73.973320</td>\n",
       "      <td>40.763805</td>\n",
       "      <td>-73.981430</td>\n",
       "      <td>40.743835</td>\n",
       "      <td>1</td>\n",
       "    </tr>\n",
       "    <tr>\n",
       "      <th>1</th>\n",
       "      <td>2015-01-27 13:08:24.0000003</td>\n",
       "      <td>2015-01-27 13:08:24 UTC</td>\n",
       "      <td>-73.986862</td>\n",
       "      <td>40.719383</td>\n",
       "      <td>-73.998886</td>\n",
       "      <td>40.739201</td>\n",
       "      <td>1</td>\n",
       "    </tr>\n",
       "    <tr>\n",
       "      <th>2</th>\n",
       "      <td>2011-10-08 11:53:44.0000002</td>\n",
       "      <td>2011-10-08 11:53:44 UTC</td>\n",
       "      <td>-73.982524</td>\n",
       "      <td>40.751260</td>\n",
       "      <td>-73.979654</td>\n",
       "      <td>40.746139</td>\n",
       "      <td>1</td>\n",
       "    </tr>\n",
       "    <tr>\n",
       "      <th>3</th>\n",
       "      <td>2012-12-01 21:12:12.0000002</td>\n",
       "      <td>2012-12-01 21:12:12 UTC</td>\n",
       "      <td>-73.981160</td>\n",
       "      <td>40.767807</td>\n",
       "      <td>-73.990448</td>\n",
       "      <td>40.751635</td>\n",
       "      <td>1</td>\n",
       "    </tr>\n",
       "    <tr>\n",
       "      <th>4</th>\n",
       "      <td>2012-12-01 21:12:12.0000003</td>\n",
       "      <td>2012-12-01 21:12:12 UTC</td>\n",
       "      <td>-73.966046</td>\n",
       "      <td>40.789775</td>\n",
       "      <td>-73.988565</td>\n",
       "      <td>40.744427</td>\n",
       "      <td>1</td>\n",
       "    </tr>\n",
       "  </tbody>\n",
       "</table>\n",
       "</div>"
      ],
      "text/plain": [
       "                           key          pickup_datetime  pickup_longitude  \\\n",
       "0  2015-01-27 13:08:24.0000002  2015-01-27 13:08:24 UTC        -73.973320   \n",
       "1  2015-01-27 13:08:24.0000003  2015-01-27 13:08:24 UTC        -73.986862   \n",
       "2  2011-10-08 11:53:44.0000002  2011-10-08 11:53:44 UTC        -73.982524   \n",
       "3  2012-12-01 21:12:12.0000002  2012-12-01 21:12:12 UTC        -73.981160   \n",
       "4  2012-12-01 21:12:12.0000003  2012-12-01 21:12:12 UTC        -73.966046   \n",
       "\n",
       "   pickup_latitude  dropoff_longitude  dropoff_latitude  passenger_count  \n",
       "0        40.763805         -73.981430         40.743835                1  \n",
       "1        40.719383         -73.998886         40.739201                1  \n",
       "2        40.751260         -73.979654         40.746139                1  \n",
       "3        40.767807         -73.990448         40.751635                1  \n",
       "4        40.789775         -73.988565         40.744427                1  "
      ]
     },
     "execution_count": 186,
     "metadata": {},
     "output_type": "execute_result"
    }
   ],
   "source": [
    "df_test=pd.read_csv('./Dataset/test.csv')\n",
    "df_test.head()"
   ]
  },
  {
   "cell_type": "code",
   "execution_count": null,
   "metadata": {},
   "outputs": [],
   "source": [
    "df.describe()"
   ]
  },
  {
   "cell_type": "code",
   "execution_count": null,
   "metadata": {},
   "outputs": [],
   "source": [
    "df.shape"
   ]
  },
  {
   "cell_type": "code",
   "execution_count": null,
   "metadata": {},
   "outputs": [],
   "source": [
    "df.info()"
   ]
  },
  {
   "cell_type": "code",
   "execution_count": null,
   "metadata": {},
   "outputs": [],
   "source": [
    "df.isnull().sum()"
   ]
  },
  {
   "cell_type": "markdown",
   "metadata": {},
   "source": [
    "<h1> Data Preprocessing </h1>"
   ]
  },
  {
   "cell_type": "markdown",
   "metadata": {},
   "source": [
    "<h3> Missing Values </h3>\n",
    "\n",
    "Above we can see our dataset have minor missing values 147 records maximum.<br>So we can easily drop that data because our dataset is much  larger\n",
    "\n",
    "Drop column <b> Key </b>also"
   ]
  },
  {
   "cell_type": "code",
   "execution_count": null,
   "metadata": {},
   "outputs": [],
   "source": [
    "df=df.dropna()\n",
    "df=df.drop('key',axis=1)\n",
    "df.shape"
   ]
  },
  {
   "cell_type": "markdown",
   "metadata": {},
   "source": [
    "<h3> Let's Check the coordinates data </h3>\n",
    "\n",
    "First find pickup lat lang min max coordinates"
   ]
  },
  {
   "cell_type": "code",
   "execution_count": null,
   "metadata": {},
   "outputs": [],
   "source": [
    "def min_max():\n",
    "    print(df['pickup_longitude'].max(),df['pickup_longitude'].min())\n",
    "    print(df['pickup_latitude'].max(),df['pickup_latitude'].min())\n",
    "\n",
    "    print(df['dropoff_longitude'].max(),df['dropoff_longitude'].min())\n",
    "    print(df['dropoff_latitude'].max(),df['dropoff_latitude'].min())\n",
    "\n",
    "min_max()"
   ]
  },
  {
   "cell_type": "markdown",
   "metadata": {},
   "source": [
    "Latitude is always range between -90 to 90\n",
    "\n",
    "Longitude is always range between -180 to 180\n",
    "\n",
    "And whatever above this range is wrong data\n",
    "\n",
    "First check any data above this range"
   ]
  },
  {
   "cell_type": "code",
   "execution_count": null,
   "metadata": {},
   "outputs": [],
   "source": [
    "def coordinate_data():\n",
    "    print(df[(df['pickup_longitude']>180) |(df['pickup_longitude']<-180) | (df['pickup_longitude']==0) ]['pickup_longitude'].count())\n",
    "    print(df[(df['pickup_latitude']>90) |(df['pickup_latitude']<-90) | (df['pickup_latitude']==0) ]['pickup_latitude'].count())\n",
    "    print(df[(df['dropoff_longitude']>180) |(df['dropoff_longitude']<-180) | (df['dropoff_longitude']==0)]['dropoff_longitude'].count())\n",
    "    print(df[(df['dropoff_latitude']>90) |(df['dropoff_latitude']<-90) | (df['dropoff_latitude']==0) ]['dropoff_latitude'].count())\n",
    "\n",
    "coordinate_data()"
   ]
  },
  {
   "cell_type": "markdown",
   "metadata": {},
   "source": [
    "We can see so many records are out of range so its not possible to have \n",
    "Let's remove it...\n",
    "\n",
    "We will use <b> ~ </b> sign to remove all data which match condition"
   ]
  },
  {
   "cell_type": "code",
   "execution_count": null,
   "metadata": {},
   "outputs": [],
   "source": [
    "df=df[~((df['pickup_longitude']>180) |(df['pickup_longitude']<-180) | (df['pickup_longitude']==0))]\n",
    "df=df[~((df['pickup_latitude']>90) |(df['pickup_latitude']<-90) | (df['pickup_latitude']==0))]\n",
    "df=df[~((df['dropoff_longitude']>180) |(df['dropoff_longitude']<-180) | (df['dropoff_longitude']==0))]\n",
    "df=df[~((df['dropoff_latitude']>90) |(df['dropoff_latitude']<-90) | (df['dropoff_latitude']==0))]\n",
    "\n",
    "# call function to check\n",
    "coordinate_data()\n",
    "min_max()"
   ]
  },
  {
   "cell_type": "code",
   "execution_count": null,
   "metadata": {},
   "outputs": [],
   "source": [
    "# remove where pickup and drop location are same\n",
    "print(df[(df['pickup_longitude']==df['dropoff_longitude']) & (df['pickup_latitude']==df['dropoff_latitude'])].shape)\n",
    "df=df[~((df['pickup_longitude']==df['dropoff_longitude']) & (df['pickup_latitude']==df['dropoff_latitude']))]"
   ]
  },
  {
   "cell_type": "code",
   "execution_count": null,
   "metadata": {},
   "outputs": [],
   "source": [
    "print(df_test.pickup_latitude.min(), df_test.pickup_latitude.max())\n",
    "print(df_test.pickup_longitude.min(), df_test.pickup_longitude.max())"
   ]
  },
  {
   "cell_type": "code",
   "execution_count": null,
   "metadata": {},
   "outputs": [],
   "source": [
    "#boundary for new york latitude longitude...\n",
    "\n",
    "boundary={\"min_lat\":40.573143,\n",
    "         \"min_lang\":-74.252193,\n",
    "         \"max_lat\":41.709555,\n",
    "         \"max_lang\":-72.986532}"
   ]
  },
  {
   "cell_type": "code",
   "execution_count": null,
   "metadata": {},
   "outputs": [],
   "source": [
    "print(df[(df['pickup_latitude']<=boundary['min_lat']) | (df['pickup_latitude']>=boundary['max_lat'])].shape[0])\n",
    "print(df[(df['pickup_longitude']<=boundary['min_lang']) | (df['pickup_longitude']>=boundary['max_lang'])].shape[0])\n",
    "print(df[(df['dropoff_latitude']<=boundary['min_lat']) | (df['dropoff_latitude']>=boundary['max_lat'])].shape[0])\n",
    "print(df[(df['dropoff_longitude']<=boundary['min_lang']) | (df['dropoff_longitude']>=boundary['max_lang'])].shape[0])"
   ]
  },
  {
   "cell_type": "code",
   "execution_count": null,
   "metadata": {},
   "outputs": [],
   "source": [
    "df=df[~((df['pickup_latitude']<=boundary['min_lat']) | (df['pickup_latitude']>=boundary['max_lat']))]\n",
    "df=df[~((df['pickup_longitude']<=boundary['min_lang']) | (df['pickup_longitude']>=boundary['max_lang']))]\n",
    "\n",
    "df=df[~((df['dropoff_latitude']<=boundary['min_lat']) | (df['dropoff_latitude']>=boundary['max_lat']))]\n",
    "df=df[~((df['dropoff_longitude']<=boundary['min_lang']) | (df['dropoff_longitude']>=boundary['max_lang']))]\n",
    "\n",
    "df.shape"
   ]
  },
  {
   "cell_type": "markdown",
   "metadata": {},
   "source": [
    "Our system is not capable of proessing <b>20 Millions</b> records.\n",
    "\n",
    "Processing <b>20 Millions</b> will take lot's of time\n",
    "\n",
    "I'll select randomly <b>10% </b>dataset and make model"
   ]
  },
  {
   "cell_type": "code",
   "execution_count": null,
   "metadata": {},
   "outputs": [],
   "source": [
    "#Randomly select 10% data \n",
    "\n",
    "df = df.sample(frac=0.1)\n",
    "df.shape"
   ]
  },
  {
   "cell_type": "code",
   "execution_count": null,
   "metadata": {},
   "outputs": [],
   "source": [
    "df.plot(y='pickup_latitude',x='pickup_longitude',kind=\"scatter\",alpha=0.7,s=0.02)\n",
    "city_long_border = (-74.03, -73.75)\n",
    "city_lat_border = (40.63, 40.85)\n",
    "plt.title(\"Pickups Data\")\n",
    "\n",
    "plt.ylim(city_lat_border)\n",
    "plt.xlim(city_long_border)\n",
    "plt.show()"
   ]
  },
  {
   "cell_type": "code",
   "execution_count": null,
   "metadata": {},
   "outputs": [],
   "source": [
    "df.plot(y='dropoff_latitude',x='dropoff_longitude',kind=\"scatter\",alpha=0.5,s=0.02)\n",
    "city_long_border = (-74.03, -73.75)\n",
    "city_lat_border = (40.63, 40.85)\n",
    "plt.title(\"Dropoff Data\")\n",
    "\n",
    "plt.ylim(city_lat_border)\n",
    "plt.xlim(city_long_border)\n",
    "plt.show()"
   ]
  },
  {
   "cell_type": "markdown",
   "metadata": {},
   "source": [
    "Passenger Count Data"
   ]
  },
  {
   "cell_type": "code",
   "execution_count": null,
   "metadata": {},
   "outputs": [],
   "source": [
    "df['passenger_count']=df['passenger_count'].astype(int)\n",
    "print(df['passenger_count'].max())\n",
    "print(df['passenger_count'].min())"
   ]
  },
  {
   "cell_type": "code",
   "execution_count": null,
   "metadata": {},
   "outputs": [],
   "source": [
    "sns.countplot(y='passenger_count',data=df)"
   ]
  },
  {
   "cell_type": "code",
   "execution_count": null,
   "metadata": {},
   "outputs": [],
   "source": [
    "df=df[~((df['passenger_count']>6))]\n",
    "df.shape"
   ]
  },
  {
   "cell_type": "markdown",
   "metadata": {},
   "source": [
    "Fare amount can not be negative so remove this data"
   ]
  },
  {
   "cell_type": "code",
   "execution_count": null,
   "metadata": {},
   "outputs": [],
   "source": [
    "df[df['fare_amount']<=0]['fare_amount'].count()\n",
    "df=df[~(df['fare_amount']<=0)]"
   ]
  },
  {
   "cell_type": "markdown",
   "metadata": {},
   "source": [
    "<h1>Feature Engineering </h1>\n",
    "\n",
    "Extract day,month,year from pickup_datetime"
   ]
  },
  {
   "cell_type": "code",
   "execution_count": null,
   "metadata": {},
   "outputs": [],
   "source": [
    "df['pickup_day']=pd.to_datetime(df.pickup_datetime,format='%Y-%m-%d %H:%M:%S UTC').dt.day\n",
    "df['pickup_month']=pd.to_datetime(df.pickup_datetime,format='%Y-%m-%d %H:%M:%S UTC').dt.month\n",
    "df['pickup_year']=pd.to_datetime(df.pickup_datetime,format='%Y-%m-%d %H:%M:%S UTC').dt.year"
   ]
  },
  {
   "cell_type": "markdown",
   "metadata": {},
   "source": [
    "Let's extract weekday from pickup_datetime\n",
    "\n",
    "0 Monday\n",
    "\n",
    "6 Sunday"
   ]
  },
  {
   "cell_type": "code",
   "execution_count": null,
   "metadata": {},
   "outputs": [],
   "source": [
    "df['pickup_weekday'] = pd.DatetimeIndex(df.pickup_datetime).dayofweek"
   ]
  },
  {
   "cell_type": "markdown",
   "metadata": {},
   "source": [
    "Seprate pickup hour from pickup_datetime column"
   ]
  },
  {
   "cell_type": "code",
   "execution_count": null,
   "metadata": {},
   "outputs": [],
   "source": [
    "df['pickup_hour']=pd.to_datetime(df.pickup_datetime,format='%Y-%m-%d %H:%M:%S UTC').dt.hour\n",
    "df.head()"
   ]
  },
  {
   "cell_type": "markdown",
   "metadata": {},
   "source": [
    "Let's add the feature called <b>mid night trip</b> usually fare during night hours are high compare to day time\n",
    "\n",
    "The trip between night 11'o clock to morning 5'o clock are labelled mid night trip  "
   ]
  },
  {
   "cell_type": "code",
   "execution_count": null,
   "metadata": {},
   "outputs": [],
   "source": [
    "df['mid_night_trip']=((df['pickup_hour']>23) | (df['pickup_hour']<6)).astype(int)\n",
    "df.head()"
   ]
  },
  {
   "cell_type": "markdown",
   "metadata": {},
   "source": [
    "New York City has rush hour means heavy traffic from 4 PM to 8 PM \n",
    "\n",
    "So fare rates may differ from other time"
   ]
  },
  {
   "cell_type": "code",
   "execution_count": null,
   "metadata": {},
   "outputs": [],
   "source": [
    "df['rush_hour_trip']=((df['pickup_hour']>=16) & (df['pickup_hour']<=20)).astype(int)\n",
    "df.head()"
   ]
  },
  {
   "cell_type": "markdown",
   "metadata": {},
   "source": [
    "During snow season the taxi is very less available compare to other months i.e. taxi fare during snow season is high. \n",
    "\n",
    "NYC has the snow season from December to March but December and March has less snow compare to Jan and Feb\n",
    "\n",
    "So we will check if trip was in month of Jan and Feb it is during snow season "
   ]
  },
  {
   "cell_type": "code",
   "execution_count": null,
   "metadata": {},
   "outputs": [],
   "source": [
    "df['snow_season']=((df['pickup_month']==1) | (df['pickup_month']==2)).astype(int)\n",
    "df.head()"
   ]
  },
  {
   "cell_type": "markdown",
   "metadata": {},
   "source": [
    "<h3> Distance calculator between pickup and drop coordinates </h3>\n",
    "\n",
    "Distance and the fare amount has the direct correlation if distance increase fare will be increase\n",
    "\n",
    "We will use python's geopy library to add column trip_distance which will have distance between two coordinates"
   ]
  },
  {
   "cell_type": "code",
   "execution_count": 188,
   "metadata": {},
   "outputs": [],
   "source": [
    "from geopy.distance import geodesic\n",
    "\n",
    "def distance_calculate(lat,long,drop_lat,drop_long):    \n",
    "    newport_ri = (lat,long)\n",
    "    cleveland_oh = (drop_lat,drop_long)\n",
    "    dist=geodesic(newport_ri, cleveland_oh).km\n",
    "    return dist"
   ]
  },
  {
   "cell_type": "code",
   "execution_count": null,
   "metadata": {},
   "outputs": [],
   "source": [
    "df['trip_distance']=list(map(distance_calculate,df['pickup_latitude'],df['pickup_longitude'],df['dropoff_latitude'],df['dropoff_longitude']))\n",
    "df.head()"
   ]
  },
  {
   "cell_type": "markdown",
   "metadata": {},
   "source": [
    "<h3> Mapping </h3>\n",
    "\n",
    "<b>Convert specific pickup and drop Coordinates into location </b>\n",
    "\n",
    "We have set the boundary for the JFK Airport, Manhattan, Brooklyn, LaGuardia, Bronx"
   ]
  },
  {
   "cell_type": "code",
   "execution_count": null,
   "metadata": {},
   "outputs": [],
   "source": [
    "#JFK Airport \n",
    "JFK={\"min_long\":-73.81,\n",
    "    \"min_lat\":40.63,\n",
    "    \"max_long\":-73.77,\n",
    "    \"max_lat\":40.67}\n",
    "\n",
    "#Manhattan \n",
    "Manhattan={\n",
    "    \"min_long\":-74.02,\n",
    "    \"min_lat\":40.70,\n",
    "    \"max_long\":-73.93,\n",
    "    \"max_lat\":40.85}\n",
    "\n",
    "#Brooklyn\n",
    "Brooklyn={\n",
    "    \"min_long\":-74.01,\n",
    "    \"min_lat\":40.62,\n",
    "    \"max_long\":-73.96,\n",
    "    \"max_lat\":40.70 }\n",
    "\n",
    "#LaGuardia\n",
    "LaGuardia={\n",
    "    \"min_long\":-73.89,\n",
    "    \"min_lat\":40.76,\n",
    "    \"max_long\":-73.85,\n",
    "    \"max_lat\":40.79}\n",
    "\n",
    "#Bronx\n",
    "Bronx={\n",
    "    \"min_long\":-73.935,\n",
    "    \"min_lat\":40.79,\n",
    "    \"max_long\":-73.88,\n",
    "    \"max_lat\":40.89}"
   ]
  },
  {
   "cell_type": "code",
   "execution_count": null,
   "metadata": {},
   "outputs": [],
   "source": [
    "def pickup_place(place,train):\n",
    "    data=train[((train['pickup_latitude']>= place['min_lat']) & (train['pickup_latitude']<= place['max_lat']) & (train['pickup_longitude']>= place['min_long']) & (train['pickup_longitude']<= place['max_long']))]    \n",
    "    return data\n",
    "\n",
    "print(\"JFK Pickup Total \" , pickup_place(JFK,df).shape)\n",
    "print(\"Manhattan Pickup Total \" , pickup_place(Manhattan,df).shape)\n",
    "print(\"Brroklyn Pickup Total \" , pickup_place(Brooklyn,df).shape)\n",
    "print(\"Bronx Pickup Total \" , pickup_place(Bronx,df).shape)\n",
    "print(\"LaGuardia Pickup Total \" , pickup_place(LaGuardia,df).shape)"
   ]
  },
  {
   "cell_type": "code",
   "execution_count": null,
   "metadata": {},
   "outputs": [],
   "source": [
    "def drop_place(place,train):\n",
    "    data=train[((train['dropoff_latitude']>= place['min_lat']) & (train['dropoff_latitude']<= place['max_lat']) & (train['dropoff_longitude']>= place['min_long']) & (train['dropoff_longitude']<= place['max_long']))]    \n",
    "    return data\n",
    "\n",
    "print(\"JFK Pickup Total \" , drop_place(JFK,df).shape)\n",
    "print(\"Manhattan Pickup Total \" , drop_place(Manhattan,df).shape)\n",
    "print(\"Brroklyn Pickup Total \" , drop_place(Brooklyn,df).shape)\n",
    "print(\"Bronx Pickup Total \" , drop_place(Bronx,df).shape)\n",
    "print(\"LaGuardia Pickup Total \" , drop_place(LaGuardia,df).shape)"
   ]
  },
  {
   "cell_type": "code",
   "execution_count": null,
   "metadata": {},
   "outputs": [],
   "source": [
    "def plotPickupAreaEachPlace(Area,data,ax):\n",
    "    d=pickup(Area,data)\n",
    "    d.plot(y='pickup_latitude',x='pickup_longitude',kind=\"scatter\",alpha=0.7,s=0.02,ax=ax,figsize=(14,6))\n",
    "    city_long_border = (-74.03, -73.75)\n",
    "    city_lat_border = (40.63, 40.85)\n",
    "    plt.title(\"Pickups\")\n",
    "\n",
    "    plt.ylim(city_lat_border)\n",
    "    plt.xlim(city_long_border)\n",
    "    plt.show()"
   ]
  },
  {
   "cell_type": "code",
   "execution_count": null,
   "metadata": {},
   "outputs": [],
   "source": [
    "ax=plt.subplot(2,3,1)\n",
    "plotPickupAreaEachPlace(JFK,df,ax)\n",
    "ax=plt.subplot(2,3,2)\n",
    "plotPickupAreaEachPlace(Manhattan,df,ax)\n",
    "ax=plt.subplot(2,3,3)\n",
    "plotPickupAreaEachPlace(Brooklyn,df,ax)\n",
    "ax=plt.subplot(2,3,4)\n",
    "plotPickupAreaEachPlace(Bronx,df,ax)\n",
    "ax=plt.subplot(2,3,5)\n",
    "plotPickupAreaEachPlace(LaGuardia,df,ax)"
   ]
  },
  {
   "cell_type": "code",
   "execution_count": null,
   "metadata": {},
   "outputs": [],
   "source": [
    "def plotDropAreaEachPlace(Area,data,ax):\n",
    "    d=pickup(Area,data)\n",
    "    d.plot(y='dropoff_latitude',x='dropoff_longitude',kind=\"scatter\",alpha=0.7,s=0.02,ax=ax,figsize=(14,6))\n",
    "    city_long_border = (-74.03, -73.75)\n",
    "    city_lat_border = (40.63, 40.85)\n",
    "    plt.title(\"Pickups\")\n",
    "\n",
    "    plt.ylim(city_lat_border)\n",
    "    plt.xlim(city_long_border)\n",
    "    plt.show()"
   ]
  },
  {
   "cell_type": "code",
   "execution_count": null,
   "metadata": {},
   "outputs": [],
   "source": [
    "ax=plt.subplot(2,3,1)\n",
    "plotPickupAreaEachPlace(JFK,df,ax)\n",
    "ax=plt.subplot(2,3,2)\n",
    "plotPickupAreaEachPlace(Manhattan,df,ax)\n",
    "ax=plt.subplot(2,3,3)\n",
    "plotPickupAreaEachPlace(Brooklyn,df,ax)\n",
    "ax=plt.subplot(2,3,4)\n",
    "plotPickupAreaEachPlace(Bronx,df,ax)\n",
    "ax=plt.subplot(2,3,5)\n",
    "plotPickupAreaEachPlace(LaGuardia,df,ax)"
   ]
  },
  {
   "cell_type": "markdown",
   "metadata": {},
   "source": [
    "place_mapping function which will take lat,lang and bounday area varibale it will map to particular area\n",
    "\n",
    "It will return 1 if particular lat,lang's are within specific boundary.\n",
    "\n",
    "e.g  pickup coordinates which are within boundary for JFK Airport said to be JFK pickup trip and vice versa for drop"
   ]
  },
  {
   "cell_type": "code",
   "execution_count": 190,
   "metadata": {},
   "outputs": [],
   "source": [
    "def place_mapping(lat,lang,place_area):\n",
    "    if (lat>= place_area['min_lat']) & (lat<= place_area['max_lat']) & (lang>= place_area['min_long']) & (lang<= place_area['max_long']):\n",
    "        return 1\n",
    "    return 0"
   ]
  },
  {
   "cell_type": "code",
   "execution_count": null,
   "metadata": {},
   "outputs": [],
   "source": [
    "df['pickup_manhattan']=df.apply(lambda row:place_mapping(row['pickup_latitude'],row['pickup_longitude'],Manhattan),axis=1)\n",
    "df['pickup_jfk']=df.apply(lambda row:place_mapping(row['pickup_latitude'],row['pickup_longitude'],JFK),axis=1)\n",
    "df['pickup_brooklyn']=df.apply(lambda row:place_mapping(row['pickup_latitude'],row['pickup_longitude'],Brooklyn),axis=1)\n",
    "df['pickup_bronx']=df.apply(lambda row:place_mapping(row['pickup_latitude'],row['pickup_longitude'],Bronx),axis=1)\n",
    "df['pickup_laGuardia']=df.apply(lambda row:place_mapping(row['pickup_latitude'],row['pickup_longitude'],LaGuardia),axis=1)"
   ]
  },
  {
   "cell_type": "code",
   "execution_count": null,
   "metadata": {},
   "outputs": [],
   "source": [
    "df['drop_manhattan']=df.apply(lambda row:place_mapping(row['dropoff_latitude'],row['dropoff_longitude'],Manhattan),axis=1)\n",
    "df['drop_jfk']=df.apply(lambda row:place_mapping(row['dropoff_latitude'],row['dropoff_longitude'],JFK),axis=1)\n",
    "df['drop_brooklyn']=df.apply(lambda row:place_mapping(row['dropoff_latitude'],row['dropoff_longitude'],Brooklyn),axis=1)\n",
    "df['drop_bronx']=df.apply(lambda row:place_mapping(row['dropoff_latitude'],row['dropoff_longitude'],Bronx),axis=1)\n",
    "df['drop_laGuardia']=df.apply(lambda row:place_mapping(row['dropoff_latitude'],row['dropoff_longitude'],LaGuardia),axis=1)"
   ]
  },
  {
   "cell_type": "markdown",
   "metadata": {},
   "source": [
    "Airport trip has the fixed rate so it is good to have a column which show whether trip is airport trip or not"
   ]
  },
  {
   "cell_type": "code",
   "execution_count": null,
   "metadata": {},
   "outputs": [],
   "source": [
    "def isAirportTrip(pickupJFK,dropJFK,pickupLaG,dropLaG):    \n",
    "    if pickupJFK==1 or dropJFK==1 or pickupLaG==1 or dropLaG==1:\n",
    "        return 1\n",
    "    return 0"
   ]
  },
  {
   "cell_type": "code",
   "execution_count": null,
   "metadata": {},
   "outputs": [],
   "source": [
    "df['isAirportTrip']=df.apply(lambda row:isAirportTrip(row['pickup_jfk'],row['drop_jfk'],row['pickup_laGuardia'],row['drop_laGuardia']),axis=1)"
   ]
  },
  {
   "cell_type": "markdown",
   "metadata": {},
   "source": [
    "Till here we have pre-processed our data and feature engineering done\n",
    "\n",
    "<h3> Save the pre-processed and feature_eng data in CSV file </h3>"
   ]
  },
  {
   "cell_type": "code",
   "execution_count": null,
   "metadata": {},
   "outputs": [],
   "source": [
    "df.to_csv(\"feature_model.csv\",index=False)"
   ]
  },
  {
   "cell_type": "markdown",
   "metadata": {},
   "source": [
    "<h3> Read Pre-processed file </h3>"
   ]
  },
  {
   "cell_type": "code",
   "execution_count": null,
   "metadata": {},
   "outputs": [],
   "source": [
    "df=pd.read_csv(\"feature_model.csv\")\n",
    "df.shape"
   ]
  },
  {
   "cell_type": "markdown",
   "metadata": {},
   "source": [
    "<h1> Data Visualization </h1>\n",
    "\n",
    "The next step is to get insight to data.\n",
    "\n",
    "Remove any noisy or outlier data and understand data distribution"
   ]
  },
  {
   "cell_type": "code",
   "execution_count": null,
   "metadata": {},
   "outputs": [],
   "source": [
    "plt.figure(figsize=(12,8))\n",
    "plt.subplot(2,2,1)\n",
    "sns.countplot(y='pickup_year', data=df)\n",
    "plt.subplot(2,2,2)\n",
    "sns.countplot(x='pickup_month', data=df,palette='Set3')\n",
    "plt.subplot(2,2,3)\n",
    "sns.countplot(x='pickup_hour', data=df,palette='Set2')\n",
    "plt.subplot(2,2,4)\n",
    "sns.countplot(y='pickup_weekday', data=df)\n",
    "\n",
    "plt.show()"
   ]
  },
  {
   "cell_type": "code",
   "execution_count": null,
   "metadata": {},
   "outputs": [],
   "source": [
    "plt.figure(figsize=(12,8))\n",
    "\n",
    "plt.subplot(2,2,1)\n",
    "sns.countplot(y='mid_night_trip', data=df,palette='Set1')\n",
    "\n",
    "plt.subplot(2,2,2)\n",
    "sns.countplot(x='rush_hour_trip', data=df,palette='Set2')\n",
    "\n",
    "plt.subplot(2,2,3)\n",
    "sns.countplot(x='passenger_count', data=df,palette='Set3')\n",
    "\n",
    "plt.subplot(2,2,4)\n",
    "sns.countplot(x='snow_season', data=df)\n",
    "\n",
    "plt.show()"
   ]
  },
  {
   "cell_type": "code",
   "execution_count": null,
   "metadata": {
    "scrolled": true
   },
   "outputs": [],
   "source": [
    "plt.figure(figsize=(12,8))\n",
    "\n",
    "plt.subplot(2,2,1)\n",
    "sns.countplot(x='pickup_weekday',data=df,palette='Set3')\n",
    "\n",
    "plt.subplot(2,2,2)\n",
    "sns.countplot(x='isAirportTrip',data=df,palette='Set2')"
   ]
  },
  {
   "cell_type": "markdown",
   "metadata": {},
   "source": [
    "<h3> Pickup Location Count Plot</h3> "
   ]
  },
  {
   "cell_type": "code",
   "execution_count": null,
   "metadata": {},
   "outputs": [],
   "source": [
    "plt.figure(figsize=(16,7))\n",
    "plt.subplot(2,3,1)\n",
    "sns.countplot(x='pickup_jfk',data=df)\n",
    "plt.subplot(2,3,2)\n",
    "sns.countplot(x='pickup_manhattan',data=df)\n",
    "plt.subplot(2,3,3)\n",
    "sns.countplot(x='pickup_bronx',data=df)\n",
    "plt.subplot(2,3,4)\n",
    "sns.countplot(x='pickup_brooklyn',data=df)\n",
    "plt.subplot(2,3,5)\n",
    "sns.countplot(x='pickup_laGuardia',data=df)\n",
    "#plt.show()"
   ]
  },
  {
   "cell_type": "markdown",
   "metadata": {},
   "source": [
    "<h3> Drop Location Count Plot</h3> "
   ]
  },
  {
   "cell_type": "code",
   "execution_count": null,
   "metadata": {},
   "outputs": [],
   "source": [
    "plt.figure(figsize=(16,7))\n",
    "plt.subplot(2,3,1)\n",
    "sns.countplot(x='drop_jfk',data=df)\n",
    "plt.subplot(2,3,2)\n",
    "sns.countplot(x='drop_manhattan',data=df)\n",
    "plt.subplot(2,3,3)\n",
    "sns.countplot(x='drop_bronx',data=df)\n",
    "plt.subplot(2,3,4)\n",
    "sns.countplot(x='drop_brooklyn',data=df)\n",
    "plt.subplot(2,3,5)\n",
    "sns.countplot(x='drop_laGuardia',data=df)\n",
    "plt.show()"
   ]
  },
  {
   "cell_type": "code",
   "execution_count": null,
   "metadata": {},
   "outputs": [],
   "source": [
    "plt.figure(figsize=(8,8))\n",
    "\n",
    "plt.subplot(2,2,1)\n",
    "sns.distplot(df['fare_amount'],kde=True)\n",
    "\n",
    "plt.subplot(2,2,2)\n",
    "sns.distplot(df['trip_distance'],kde=True)\n",
    "\n",
    "df.plot(x='fare_amount',y='trip_distance',kind='scatter')"
   ]
  },
  {
   "cell_type": "code",
   "execution_count": null,
   "metadata": {},
   "outputs": [],
   "source": [
    "def fare_and_trip_dist_50():\n",
    "    plt.figure(figsize=(12,8))\n",
    "    plt.subplot(2,2,1)\n",
    "\n",
    "    x=df[df['trip_distance']>50]\n",
    "    sns.distplot(x['trip_distance'],kde=True)\n",
    "\n",
    "    plt.subplot(2,2,2)\n",
    "    sns.distplot(x['fare_amount'],kde=True)\n",
    "\n",
    "    x.plot(x='fare_amount',y='trip_distance',kind='scatter')\n",
    "fare_and_trip_dist_50()"
   ]
  },
  {
   "cell_type": "code",
   "execution_count": null,
   "metadata": {},
   "outputs": [],
   "source": [
    "#remove data where trip distance > 50\n",
    "\n",
    "df=df[~(df['trip_distance']>50)]\n",
    "df=df[~(df['fare_amount']>=220)]"
   ]
  },
  {
   "cell_type": "code",
   "execution_count": null,
   "metadata": {},
   "outputs": [],
   "source": [
    "cancel_ride=df[(df['fare_amount']>=0) & (df['passenger_count']==0)]\n",
    "sns.distplot(cancel_ride['fare_amount'],kde=True)"
   ]
  },
  {
   "cell_type": "code",
   "execution_count": null,
   "metadata": {},
   "outputs": [],
   "source": [
    "sns.distplot(np.log(df['fare_amount']),kde=True)"
   ]
  },
  {
   "cell_type": "markdown",
   "metadata": {},
   "source": [
    "<h3> Airport vs Non Aiport Trip Fare Distributinon </h3>"
   ]
  },
  {
   "cell_type": "code",
   "execution_count": null,
   "metadata": {},
   "outputs": [],
   "source": [
    "df_airport=df[df['isAirportTrip']==1]\n",
    "df_non_airport=df[df['isAirportTrip']==0]\n",
    "\n",
    "fig = plt.figure(figsize=(6,4))\n",
    "sns.distplot(df_airport['fare_amount'],kde=True,color=\"y\")\n",
    "sns.distplot(df_non_airport['fare_amount'],kde=True)\n",
    "fig.legend(labels=['Airport Fare','Non Airport Fare'])\n",
    "plt.show()"
   ]
  },
  {
   "cell_type": "markdown",
   "metadata": {},
   "source": [
    "<h3> Different Area Fare Distribution </h3>"
   ]
  },
  {
   "cell_type": "code",
   "execution_count": null,
   "metadata": {},
   "outputs": [],
   "source": [
    "df_manhattan=df[(df['pickup_manhattan']==1) | (df['drop_manhattan']==1)]\n",
    "df_jfk=df[(df['pickup_jfk']==1) | (df['drop_jfk']==1)]\n",
    "df_bronx=df[(df['pickup_bronx']==1) | (df['drop_bronx']==1)]\n",
    "df_brooklyn=df[(df['pickup_brooklyn']==1) | (df['drop_brooklyn']==1)]\n",
    "df_LGD=df[(df['pickup_laGuardia']==1) | (df['drop_laGuardia']==1)]"
   ]
  },
  {
   "cell_type": "code",
   "execution_count": null,
   "metadata": {},
   "outputs": [],
   "source": [
    "fig = plt.figure(figsize=(6,4))\n",
    "\n",
    "sns.distplot(df_manhattan['fare_amount'],kde=True)\n",
    "sns.distplot(df_jfk['fare_amount'],kde=True)\n",
    "sns.distplot(df_bronx['fare_amount'],kde=True)\n",
    "sns.distplot(df_brooklyn['fare_amount'],kde=True)\n",
    "sns.distplot(df_LGD['fare_amount'],kde=True)\n",
    "fig.legend(labels=['Manhattan Fare','JFK Fare','Bronx Fare','Brooklyn Fare','LaGuardia Fare'])\n",
    "plt.show()"
   ]
  },
  {
   "cell_type": "markdown",
   "metadata": {},
   "source": [
    "<h3> Fare Distribution of Manhattan </h3>"
   ]
  },
  {
   "cell_type": "code",
   "execution_count": null,
   "metadata": {},
   "outputs": [],
   "source": [
    "df_man=df[ (df['pickup_manhattan'] ==1) & (df['drop_manhattan'] ==1)]\n",
    "sns.distplot(df_man['fare_amount'],kde=True)"
   ]
  },
  {
   "cell_type": "code",
   "execution_count": null,
   "metadata": {},
   "outputs": [],
   "source": [
    "df_man['fare_amount'].sum()/df_man.shape[0]\n",
    "df=df[~((df['pickup_manhattan'] ==1) & (df['drop_manhattan'] ==1) & (df['fare_amount'] > 20))]"
   ]
  },
  {
   "cell_type": "markdown",
   "metadata": {},
   "source": [
    "<h3> Fare Distribution at Different Time Zone </h3>"
   ]
  },
  {
   "cell_type": "code",
   "execution_count": null,
   "metadata": {},
   "outputs": [],
   "source": [
    "df_snow=df[df['snow_season']==1]\n",
    "df_non_snow=df[df['snow_season']==0]\n",
    "\n",
    "fig = plt.figure(figsize=(7,6))\n",
    "ax=plt.subplot(2,2,1)\n",
    "sns.distplot(np.log(df_snow['fare_amount']),ax=ax)\n",
    "sns.distplot(np.log(df_non_snow['fare_amount']),ax=ax)\n",
    "\n",
    "\n",
    "df_mid=df[df['mid_night_trip']==1]\n",
    "df_non_mid=df[df['mid_night_trip']==0]\n",
    "ax=plt.subplot(2,2,2)\n",
    "sns.distplot(np.log(df_mid['fare_amount']),ax=ax)\n",
    "sns.distplot(np.log(df_non_mid['fare_amount']),ax=ax)\n",
    "\n",
    "df_rush_hour=df[df['rush_hour_trip']==1]\n",
    "df_non_rush_hour=df[df['rush_hour_trip']==0]\n",
    "ax=plt.subplot(2,2,3)\n",
    "sns.distplot(np.log(df_rush_hour['fare_amount']),ax=ax)\n",
    "sns.distplot(np.log(df_non_rush_hour['fare_amount']),ax=ax)"
   ]
  },
  {
   "cell_type": "markdown",
   "metadata": {},
   "source": [
    "<h2> Correlation Heatmap</h2>"
   ]
  },
  {
   "cell_type": "code",
   "execution_count": null,
   "metadata": {},
   "outputs": [],
   "source": [
    "sns.heatmap(df.corr())"
   ]
  },
  {
   "cell_type": "code",
   "execution_count": 193,
   "metadata": {},
   "outputs": [
    {
     "data": {
      "text/html": [
       "<div>\n",
       "<style scoped>\n",
       "    .dataframe tbody tr th:only-of-type {\n",
       "        vertical-align: middle;\n",
       "    }\n",
       "\n",
       "    .dataframe tbody tr th {\n",
       "        vertical-align: top;\n",
       "    }\n",
       "\n",
       "    .dataframe thead th {\n",
       "        text-align: right;\n",
       "    }\n",
       "</style>\n",
       "<table border=\"1\" class=\"dataframe\">\n",
       "  <thead>\n",
       "    <tr style=\"text-align: right;\">\n",
       "      <th></th>\n",
       "      <th>fare_amount</th>\n",
       "      <th>pickup_longitude</th>\n",
       "      <th>pickup_latitude</th>\n",
       "      <th>dropoff_longitude</th>\n",
       "      <th>dropoff_latitude</th>\n",
       "      <th>passenger_count</th>\n",
       "      <th>pickup_day</th>\n",
       "      <th>pickup_month</th>\n",
       "      <th>pickup_year</th>\n",
       "      <th>pickup_weekday</th>\n",
       "      <th>...</th>\n",
       "      <th>pickup_jfk</th>\n",
       "      <th>pickup_manhattan</th>\n",
       "      <th>pickup_brooklyn</th>\n",
       "      <th>pickup_bronx</th>\n",
       "      <th>pickup_laGuardia</th>\n",
       "      <th>drop_jfk</th>\n",
       "      <th>drop_manhattan</th>\n",
       "      <th>drop_brooklyn</th>\n",
       "      <th>drop_bronx</th>\n",
       "      <th>drop_laGuardia</th>\n",
       "    </tr>\n",
       "  </thead>\n",
       "  <tbody>\n",
       "    <tr>\n",
       "      <th>0</th>\n",
       "      <td>6.0</td>\n",
       "      <td>-74.005457</td>\n",
       "      <td>40.739317</td>\n",
       "      <td>-73.993169</td>\n",
       "      <td>40.743069</td>\n",
       "      <td>2</td>\n",
       "      <td>15</td>\n",
       "      <td>5</td>\n",
       "      <td>2013</td>\n",
       "      <td>2</td>\n",
       "      <td>...</td>\n",
       "      <td>0</td>\n",
       "      <td>1</td>\n",
       "      <td>0</td>\n",
       "      <td>0</td>\n",
       "      <td>0</td>\n",
       "      <td>0</td>\n",
       "      <td>1</td>\n",
       "      <td>0</td>\n",
       "      <td>0</td>\n",
       "      <td>0</td>\n",
       "    </tr>\n",
       "    <tr>\n",
       "      <th>1</th>\n",
       "      <td>15.3</td>\n",
       "      <td>-73.966702</td>\n",
       "      <td>40.761237</td>\n",
       "      <td>-74.006240</td>\n",
       "      <td>40.743692</td>\n",
       "      <td>2</td>\n",
       "      <td>15</td>\n",
       "      <td>2</td>\n",
       "      <td>2010</td>\n",
       "      <td>0</td>\n",
       "      <td>...</td>\n",
       "      <td>0</td>\n",
       "      <td>1</td>\n",
       "      <td>0</td>\n",
       "      <td>0</td>\n",
       "      <td>0</td>\n",
       "      <td>0</td>\n",
       "      <td>1</td>\n",
       "      <td>0</td>\n",
       "      <td>0</td>\n",
       "      <td>0</td>\n",
       "    </tr>\n",
       "    <tr>\n",
       "      <th>2</th>\n",
       "      <td>13.3</td>\n",
       "      <td>-73.982323</td>\n",
       "      <td>40.768415</td>\n",
       "      <td>-74.002835</td>\n",
       "      <td>40.723653</td>\n",
       "      <td>2</td>\n",
       "      <td>21</td>\n",
       "      <td>8</td>\n",
       "      <td>2012</td>\n",
       "      <td>1</td>\n",
       "      <td>...</td>\n",
       "      <td>0</td>\n",
       "      <td>1</td>\n",
       "      <td>0</td>\n",
       "      <td>0</td>\n",
       "      <td>0</td>\n",
       "      <td>0</td>\n",
       "      <td>1</td>\n",
       "      <td>0</td>\n",
       "      <td>0</td>\n",
       "      <td>0</td>\n",
       "    </tr>\n",
       "    <tr>\n",
       "      <th>3</th>\n",
       "      <td>8.5</td>\n",
       "      <td>-73.993973</td>\n",
       "      <td>40.732935</td>\n",
       "      <td>-74.006775</td>\n",
       "      <td>40.712583</td>\n",
       "      <td>5</td>\n",
       "      <td>8</td>\n",
       "      <td>4</td>\n",
       "      <td>2009</td>\n",
       "      <td>2</td>\n",
       "      <td>...</td>\n",
       "      <td>0</td>\n",
       "      <td>1</td>\n",
       "      <td>0</td>\n",
       "      <td>0</td>\n",
       "      <td>0</td>\n",
       "      <td>0</td>\n",
       "      <td>1</td>\n",
       "      <td>0</td>\n",
       "      <td>0</td>\n",
       "      <td>0</td>\n",
       "    </tr>\n",
       "    <tr>\n",
       "      <th>4</th>\n",
       "      <td>16.9</td>\n",
       "      <td>-73.971797</td>\n",
       "      <td>40.746223</td>\n",
       "      <td>-73.991578</td>\n",
       "      <td>40.749785</td>\n",
       "      <td>2</td>\n",
       "      <td>2</td>\n",
       "      <td>6</td>\n",
       "      <td>2011</td>\n",
       "      <td>3</td>\n",
       "      <td>...</td>\n",
       "      <td>0</td>\n",
       "      <td>1</td>\n",
       "      <td>0</td>\n",
       "      <td>0</td>\n",
       "      <td>0</td>\n",
       "      <td>0</td>\n",
       "      <td>1</td>\n",
       "      <td>0</td>\n",
       "      <td>0</td>\n",
       "      <td>0</td>\n",
       "    </tr>\n",
       "  </tbody>\n",
       "</table>\n",
       "<p>5 rows × 26 columns</p>\n",
       "</div>"
      ],
      "text/plain": [
       "   fare_amount  pickup_longitude  pickup_latitude  dropoff_longitude  \\\n",
       "0          6.0        -74.005457        40.739317         -73.993169   \n",
       "1         15.3        -73.966702        40.761237         -74.006240   \n",
       "2         13.3        -73.982323        40.768415         -74.002835   \n",
       "3          8.5        -73.993973        40.732935         -74.006775   \n",
       "4         16.9        -73.971797        40.746223         -73.991578   \n",
       "\n",
       "   dropoff_latitude  passenger_count  pickup_day  pickup_month  pickup_year  \\\n",
       "0         40.743069                2          15             5         2013   \n",
       "1         40.743692                2          15             2         2010   \n",
       "2         40.723653                2          21             8         2012   \n",
       "3         40.712583                5           8             4         2009   \n",
       "4         40.749785                2           2             6         2011   \n",
       "\n",
       "   pickup_weekday  ...  pickup_jfk  pickup_manhattan  pickup_brooklyn  \\\n",
       "0               2  ...           0                 1                0   \n",
       "1               0  ...           0                 1                0   \n",
       "2               1  ...           0                 1                0   \n",
       "3               2  ...           0                 1                0   \n",
       "4               3  ...           0                 1                0   \n",
       "\n",
       "   pickup_bronx  pickup_laGuardia  drop_jfk  drop_manhattan  drop_brooklyn  \\\n",
       "0             0                 0         0               1              0   \n",
       "1             0                 0         0               1              0   \n",
       "2             0                 0         0               1              0   \n",
       "3             0                 0         0               1              0   \n",
       "4             0                 0         0               1              0   \n",
       "\n",
       "   drop_bronx  drop_laGuardia  \n",
       "0           0               0  \n",
       "1           0               0  \n",
       "2           0               0  \n",
       "3           0               0  \n",
       "4           0               0  \n",
       "\n",
       "[5 rows x 26 columns]"
      ]
     },
     "execution_count": 193,
     "metadata": {},
     "output_type": "execute_result"
    }
   ],
   "source": [
    "df=df.drop('pickup_datetime',axis=1)\n",
    "df.head()"
   ]
  },
  {
   "cell_type": "markdown",
   "metadata": {},
   "source": [
    "<h3> Apply all Feature engineering to Test Data </h3>\n",
    "\n",
    "We don't need to preprocessed the test data.\n",
    "\n",
    "Test data is mostly preprocessed itself"
   ]
  },
  {
   "cell_type": "code",
   "execution_count": 191,
   "metadata": {},
   "outputs": [],
   "source": [
    "df_test['pickup_day']=pd.to_datetime(df_test.pickup_datetime,format='%Y-%m-%d %H:%M:%S UTC').dt.day\n",
    "df_test['pickup_month']=pd.to_datetime(df_test.pickup_datetime,format='%Y-%m-%d %H:%M:%S UTC').dt.month\n",
    "df_test['pickup_year']=pd.to_datetime(df_test.pickup_datetime,format='%Y-%m-%d %H:%M:%S UTC').dt.year\n",
    "\n",
    "df_test['pickup_weekday'] = pd.DatetimeIndex(df_test.pickup_datetime).dayofweek\n",
    "df_test['pickup_hour']=pd.to_datetime(df_test.pickup_datetime,format='%Y-%m-%d %H:%M:%S UTC').dt.hour\n",
    "\n",
    "df_test['mid_night_trip']=((df_test['pickup_hour']>23) | (df_test['pickup_hour']<6)).astype(int)\n",
    "df_test['rush_hour_trip']=((df_test['pickup_hour']>=16) & (df_test['pickup_hour']<=20)).astype(int)\n",
    "df_test['snow_season']=((df_test['pickup_month']==1) | (df_test['pickup_month']==2)).astype(int)\n",
    "df_test['trip_distance']=list(map(distance_calculate,df_test['pickup_latitude'],df_test['pickup_longitude'],df_test['dropoff_latitude'],df_test['dropoff_longitude']))\n",
    "\n",
    "df_test['pickup_manhattan']=df_test.apply(lambda row:place_mapping(row['pickup_latitude'],row['pickup_longitude'],Manhattan),axis=1)\n",
    "df_test['pickup_jfk']=df_test.apply(lambda row:place_mapping(row['pickup_latitude'],row['pickup_longitude'],JFK),axis=1)\n",
    "df_test['pickup_brooklyn']=df_test.apply(lambda row:place_mapping(row['pickup_latitude'],row['pickup_longitude'],Brooklyn),axis=1)\n",
    "df_test['pickup_bronx']=df_test.apply(lambda row:place_mapping(row['pickup_latitude'],row['pickup_longitude'],Bronx),axis=1)\n",
    "df_test['pickup_laGuardia']=df_test.apply(lambda row:place_mapping(row['pickup_latitude'],row['pickup_longitude'],LaGuardia),axis=1)\n",
    "\n",
    "df_test['drop_manhattan']=df_test.apply(lambda row:place_mapping(row['dropoff_latitude'],row['dropoff_longitude'],Manhattan),axis=1)\n",
    "df_test['drop_jfk']=df_test.apply(lambda row:place_mapping(row['dropoff_latitude'],row['dropoff_longitude'],JFK),axis=1)\n",
    "df_test['drop_brooklyn']=df_test.apply(lambda row:place_mapping(row['dropoff_latitude'],row['dropoff_longitude'],Brooklyn),axis=1)\n",
    "df_test['drop_bronx']=df_test.apply(lambda row:place_mapping(row['dropoff_latitude'],row['dropoff_longitude'],Bronx),axis=1)\n",
    "df_test['drop_laGuardia']=df_test.apply(lambda row:place_mapping(row['dropoff_latitude'],row['dropoff_longitude'],LaGuardia),axis=1)\n",
    "\n",
    "df_test['isAirportTrip']=df_test.apply(lambda row:isAirportTrip(row['pickup_jfk'],row['drop_jfk'],row['pickup_laGuardia'],row['drop_laGuardia']),axis=1)\n",
    "\n",
    "df_test=df_test.drop(columns=['pickup_datetime','key'])\n",
    "df_test.head()"
   ]
  },
  {
   "cell_type": "markdown",
   "metadata": {},
   "source": [
    "<h1> Modeling </h1>\n",
    "\n",
    "The dataset is very large algorithms like SVM KNN will be slow to perform\n",
    "\n",
    "We will use Ensemble Methods like Random Forest, XGBoost etc."
   ]
  },
  {
   "cell_type": "code",
   "execution_count": 194,
   "metadata": {},
   "outputs": [],
   "source": [
    "#Extract Features and Target Column\n",
    "X=df.drop(columns=['fare_amount'])\n",
    "y=df['fare_amount']"
   ]
  },
  {
   "cell_type": "code",
   "execution_count": 196,
   "metadata": {},
   "outputs": [],
   "source": [
    "#train test split\n",
    "\n",
    "from sklearn.model_selection import train_test_split\n",
    "X_train,X_test,y_train,y_test=train_test_split(X,y,test_size=0.2,random_state=45)"
   ]
  },
  {
   "cell_type": "markdown",
   "metadata": {},
   "source": [
    "<h3> Random Forest Regressor </h3>"
   ]
  },
  {
   "cell_type": "code",
   "execution_count": null,
   "metadata": {},
   "outputs": [],
   "source": [
    "from sklearn.ensemble import RandomForestRegressor\n",
    "\n",
    "reg=RandomForestRegressor(n_estimators=100)\n",
    "reg.fit(X_train,y_train)\n",
    "y_pred=reg.predict(X_test)\n",
    "mean_squared_error(y_test,y_pred)"
   ]
  },
  {
   "cell_type": "markdown",
   "metadata": {},
   "source": [
    "<h3> K-Fold Cross Validation </h3>"
   ]
  },
  {
   "cell_type": "code",
   "execution_count": 200,
   "metadata": {},
   "outputs": [
    {
     "name": "stdout",
     "output_type": "stream",
     "text": [
      "[ 9.49029552 10.00978808  9.46217355  9.38537576  9.44701975]\n",
      "9.558930532557962\n",
      "0.22803091380886958\n"
     ]
    }
   ],
   "source": [
    "from sklearn.model_selection import cross_val_score\n",
    "\n",
    "score=cross_val_score(reg,X,y,scoring='neg_mean_squared_error',cv=5)\n",
    "rmse_score=np.sqrt(-score)\n",
    "\n",
    "print(rmse_score)\n",
    "print(rmse_score.mean())\n",
    "print(rmse_score.std())"
   ]
  }
 ],
 "metadata": {
  "kernelspec": {
   "display_name": "Python 3",
   "language": "python",
   "name": "python3"
  },
  "language_info": {
   "codemirror_mode": {
    "name": "ipython",
    "version": 3
   },
   "file_extension": ".py",
   "mimetype": "text/x-python",
   "name": "python",
   "nbconvert_exporter": "python",
   "pygments_lexer": "ipython3",
   "version": "3.6.8"
  }
 },
 "nbformat": 4,
 "nbformat_minor": 2
}
